{
 "cells": [
  {
   "cell_type": "code",
   "source": [
    "# decoupling\n",
    "# https://proceedings.neurips.cc/paper/2017/file/58d4d1e7b1e97b258c9ed0b37e02d087-Paper.pdf\n"
   ],
   "metadata": {
    "id": "-Q0HVEkhut-6"
   },
   "id": "-Q0HVEkhut-6",
   "execution_count": null,
   "outputs": []
  },
  {
   "cell_type": "code",
   "source": [
    "from google.colab import drive\n",
    "drive.mount('/content/drive')"
   ],
   "metadata": {
    "id": "dAmX58nKuw0J",
    "colab": {
     "base_uri": "https://localhost:8080/"
    },
    "outputId": "2e0dc05b-eee0-4fd6-b904-e2aeb0799cce"
   },
   "id": "dAmX58nKuw0J",
   "execution_count": null,
   "outputs": [
    {
     "output_type": "stream",
     "name": "stdout",
     "text": [
      "Mounted at /content/drive\n"
     ]
    }
   ]
  },
  {
   "cell_type": "code",
   "source": [
    "cd /content/drive/MyDrive"
   ],
   "metadata": {
    "id": "KMW_0J7Mu58N",
    "colab": {
     "base_uri": "https://localhost:8080/"
    },
    "outputId": "d944b73e-589a-4fba-dd65-b4594a041053"
   },
   "id": "KMW_0J7Mu58N",
   "execution_count": null,
   "outputs": [
    {
     "output_type": "stream",
     "name": "stdout",
     "text": [
      "/content/drive/MyDrive\n"
     ]
    }
   ]
  },
  {
   "cell_type": "code",
   "execution_count": null,
   "id": "ded39806-fc83-4b0c-b9ce-14e896a4675f",
   "metadata": {
    "id": "ded39806-fc83-4b0c-b9ce-14e896a4675f"
   },
   "outputs": [],
   "source": [
    "import os\n",
    "import sys\n",
    "import csv\n",
    "import pickle\n",
    "import random\n",
    "import math\n",
    "import numpy as np\n",
    "from time import time\n",
    "from tqdm import tqdm\n",
    "\n",
    "import torch\n",
    "import torch.nn as nn\n",
    "import torch.optim as optim\n",
    "from torch.utils.data import Dataset, DataLoader\n",
    "from torch.nn.utils.parametrizations import spectral_norm\n",
    "\n",
    "from torchtext.vocab import build_vocab_from_iterator\n",
    "\n",
    "from sklearn.metrics import roc_auc_score"
   ]
  },
  {
   "cell_type": "code",
   "execution_count": null,
   "id": "2bbbe232-2c39-49c6-9187-a80c6812d813",
   "metadata": {
    "id": "2bbbe232-2c39-49c6-9187-a80c6812d813"
   },
   "outputs": [],
   "source": [
    "def seed_everything(seed: int):\n",
    "    random.seed(seed)\n",
    "    os.environ['PYTHONHASHSEED'] = str(seed)\n",
    "    np.random.seed(seed)\n",
    "    torch.manual_seed(seed)\n",
    "    torch.cuda.manual_seed(seed)\n",
    "    torch.backends.cudnn.deterministic = True\n",
    "    torch.backends.cudnn.benchmark = True\n",
    "    \n",
    "seed_everything(1234)"
   ]
  },
  {
   "cell_type": "code",
   "execution_count": null,
   "id": "e449b96d-6e11-4b72-a5e6-8f20c1b71115",
   "metadata": {
    "id": "e449b96d-6e11-4b72-a5e6-8f20c1b71115"
   },
   "outputs": [],
   "source": [
    "def read_data(path):\n",
    "    with open(path, 'r') as csvfile:\n",
    "        train_data = list(csv.reader(csvfile))[1:] # skip col name\n",
    "        sents, lbls = [], []\n",
    "        for s, l in train_data:\n",
    "            sents.append(s)\n",
    "            lbls.append(l)\n",
    "    return sents, lbls\n",
    "\n",
    "# number of trainable parameters in model\n",
    "def get_total_model_params(model):\n",
    "    return sum(p.numel() for p in model.parameters() if p.requires_grad)"
   ]
  },
  {
   "cell_type": "code",
   "source": [],
   "metadata": {
    "id": "hAJEYsvwhMWB"
   },
   "id": "hAJEYsvwhMWB",
   "execution_count": null,
   "outputs": []
  },
  {
   "cell_type": "code",
   "execution_count": null,
   "id": "bc0d6e60-1b46-4656-892b-ff4ff84ecf77",
   "metadata": {
    "id": "bc0d6e60-1b46-4656-892b-ff4ff84ecf77"
   },
   "outputs": [],
   "source": [
    "def gelu(x):\n",
    "    \"\"\"\n",
    "    Facebook Research implementation of the gelu activation function.\n",
    "    \n",
    "    For information: OpenAI GPT's gelu is slightly different\n",
    "    (and gives slightly different results):\n",
    "    0.5 * x * (1 + torch.tanh(math.sqrt(2 / math.pi) * (x + 0.044715 * torch.pow(x, 3))))\n",
    "    \"\"\"\n",
    "    return x * 0.5 * (1.0 + torch.erf(x / math.sqrt(2.0)))"
   ]
  },
  {
   "cell_type": "code",
   "execution_count": null,
   "id": "e9ffe646-fe1e-4c17-b3e5-c36ed03e81a8",
   "metadata": {
    "id": "e9ffe646-fe1e-4c17-b3e5-c36ed03e81a8"
   },
   "outputs": [],
   "source": [
    "class CleavageDataset(Dataset):\n",
    "    def __init__(self, seq, lbl):\n",
    "        self.seq = seq\n",
    "        self.lbl = lbl\n",
    "    \n",
    "    def __getitem__(self, idx):\n",
    "        return self.seq[idx], self.lbl[idx]\n",
    "    \n",
    "    def __len__(self):\n",
    "        return len(self.lbl)\n",
    "    \n",
    "class CleavageBatch:\n",
    "    def __init__(self, batch):\n",
    "        ordered_batch = list(zip(*batch))\n",
    "        self.seq = torch.tensor([encode_text(seq) for seq in ordered_batch[0]], dtype=torch.int64)\n",
    "        self.lbl = torch.tensor([int(l) for l in ordered_batch[1]], dtype=torch.float)\n",
    "        \n",
    "    def pin_memory(self):\n",
    "        self.seq = self.seq.pin_memory()\n",
    "        self.lbl = self.lbl.pin_memory()\n",
    "        return self\n",
    "    \n",
    "def collate_wrapper(batch):\n",
    "    return CleavageBatch(batch)"
   ]
  },
  {
   "cell_type": "code",
   "execution_count": null,
   "id": "b4cc48e7-1186-4391-b9d8-924eee98b72c",
   "metadata": {
    "id": "b4cc48e7-1186-4391-b9d8-924eee98b72c"
   },
   "outputs": [],
   "source": [
    "class BiLSTM(nn.Module):\n",
    "    def __init__(self, vocab_size, embedding_dim, rnn_size1, rnn_size2, hidden_size, dropout):\n",
    "        super().__init__()\n",
    "        \n",
    "        self.embedding = nn.Embedding(\n",
    "            num_embeddings=vocab_size,\n",
    "            embedding_dim=embedding_dim,\n",
    "        )\n",
    "        \n",
    "        self.dropout=nn.Dropout(dropout)\n",
    "        \n",
    "        self.lstm1 = nn.LSTM(\n",
    "            input_size=embedding_dim,\n",
    "            hidden_size=rnn_size1,\n",
    "            bidirectional=True,\n",
    "            batch_first=True,\n",
    "        )\n",
    "\n",
    "        self.lstm2 = nn.LSTM(\n",
    "            input_size=2 * rnn_size1,\n",
    "            hidden_size=rnn_size2,\n",
    "            bidirectional=True,\n",
    "            batch_first=True,\n",
    "        )\n",
    "        \n",
    "        self.fc1 = spectral_norm(nn.Linear(rnn_size2 * 2, hidden_size))\n",
    "        self.fc2 = nn.Linear(hidden_size, 1)\n",
    "        \n",
    "    def forward(self, seq):\n",
    "        # input shape: (batch_size, seq_len=10)\n",
    "        embedded = self.dropout(self.embedding(seq))\n",
    "        \n",
    "        # input shape: (batch_size, seq_len, embedding_dim)\n",
    "        out, _ = self.lstm1(embedded)\n",
    "        \n",
    "        # input shape: (batch_size, seq_len, 2*rnn_size1)\n",
    "        out, _ = self.lstm2(out)\n",
    "        \n",
    "        # input shape: (batch_size, seq_len, 2*hidden_size)\n",
    "        pooled, _ = torch.max(out, dim=1)\n",
    "        \n",
    "        # input shape: (batch_size, 2*hidden_size)\n",
    "        out = self.dropout(gelu(self.fc1(pooled)))\n",
    "        \n",
    "        # input shape: (batch_size, hidden_size)\n",
    "        # output shape: (batch_size)\n",
    "        return self.fc2(out).squeeze()"
   ]
  },
  {
   "cell_type": "code",
   "source": [],
   "metadata": {
    "id": "bLQTOYFru_vV"
   },
   "id": "bLQTOYFru_vV",
   "execution_count": null,
   "outputs": []
  },
  {
   "cell_type": "code",
   "source": [
    "def train(model1, model2, loader, optim):\n",
    "    epoch_loss1, num_correct1, total = 0, 0, 0\n",
    "    epoch_loss2, num_correct2 = 0, 0\n",
    "    preds1, preds2, lbls = [], [], []\n",
    "    criterion = nn.BCEWithLogitsLoss(reduction='none')\n",
    "    \n",
    "    for batch in tqdm(\n",
    "        loader,\n",
    "        desc=\"Train: \",\n",
    "        file=sys.stdout,\n",
    "        unit=\"batches\"\n",
    "    ):\n",
    "        seq, lbl = batch.seq, batch.lbl\n",
    "        seq, lbl = seq.to(device), lbl.to(device)\n",
    "        \n",
    "        scores1 = model1(seq)\n",
    "        pred1 = scores1 > 0\n",
    "        scores2 = model2(seq)\n",
    "        pred2 = scores2 > 0\n",
    "\n",
    "        inds = torch.where(pred1 != pred2)\n",
    "        loss1 = criterion(scores1[inds] , lbl[inds]).sum()\n",
    "        loss2 = criterion(scores2[inds] , lbl[inds]).sum()\n",
    "        \n",
    "\n",
    "        optim.zero_grad()\n",
    "        loss1.backward()\n",
    "        loss2.backward()\n",
    "        optim.step()\n",
    "\n",
    "        epoch_loss1 += loss1.item()\n",
    "        epoch_loss2 += loss2.item()\n",
    "        num_correct1 += ((scores1 > 0) == lbl).sum()\n",
    "        num_correct2 += ((scores2 > 0) == lbl).sum()\n",
    "        total += len(seq)\n",
    "        preds1.extend(scores1.detach().tolist())\n",
    "        preds2.extend(scores2.detach().tolist())\n",
    "        lbls.extend(lbl.detach().tolist())\n",
    "    return epoch_loss1 / total, epoch_loss2 / total, num_correct1 / total, num_correct2 / total, roc_auc_score(lbls, preds1), roc_auc_score(lbls, preds2)\n"
   ],
   "metadata": {
    "id": "XfOhOf-Chjxi"
   },
   "id": "XfOhOf-Chjxi",
   "execution_count": null,
   "outputs": []
  },
  {
   "cell_type": "code",
   "source": [
    "def evaluate(model1, model2, loader):\n",
    "    epoch_loss1, num_correct1, total = 0, 0, 0\n",
    "    epoch_loss2, num_correct2 = 0, 0\n",
    "\n",
    "    preds1, preds2, lbls = [], [], []\n",
    "    criterion = nn.BCEWithLogitsLoss(reduction='none')\n",
    "    for batch in tqdm(\n",
    "        loader,\n",
    "        desc=\"Eval: \",\n",
    "        file=sys.stdout,\n",
    "        unit=\"batches\"\n",
    "    ):\n",
    "        seq, lbl = batch.seq, batch.lbl\n",
    "        seq, lbl = seq.to(device), lbl.to(device)\n",
    "        \n",
    "\n",
    "        scores1 = model1(seq)\n",
    "        pred1 = scores1 > 0\n",
    "        scores2 = model2(seq)\n",
    "        pred2 = scores2 > 0\n",
    "\n",
    "        inds = torch.where(pred1 != pred2)\n",
    "        loss1 = criterion(scores1[inds] , lbl[inds]).sum()\n",
    "        loss2 = criterion(scores2[inds] , lbl[inds]).sum()\n",
    "        \n",
    "        epoch_loss1 += loss1.item()\n",
    "        epoch_loss2 += loss2.item()\n",
    "        num_correct1 += ((scores1 > 0) == lbl).sum()\n",
    "        num_correct2 += ((scores2 > 0) == lbl).sum()\n",
    "        total += len(seq)\n",
    "        preds1.extend(scores1.detach().tolist())\n",
    "        preds2.extend(scores2.detach().tolist())\n",
    "        lbls.extend(lbl.detach().tolist())\n",
    "    return epoch_loss1 / total, epoch_loss2 / total, num_correct1 / total, num_correct2 / total, roc_auc_score(lbls, preds1), roc_auc_score(lbls, preds2)"
   ],
   "metadata": {
    "id": "mU3TSAz-iIWm"
   },
   "id": "mU3TSAz-iIWm",
   "execution_count": null,
   "outputs": []
  },
  {
   "cell_type": "code",
   "execution_count": null,
   "id": "42148192-6ec1-4ffa-8f86-2662575167dd",
   "metadata": {
    "id": "42148192-6ec1-4ffa-8f86-2662575167dd"
   },
   "outputs": [],
   "source": [
    "device = torch.device('cuda:0' if torch.cuda.is_available() else 'cpu')\n",
    "\n",
    "# load train and dev data\n",
    "train_seqs, train_lbl = read_data('data/n_train.csv')\n",
    "dev_seqs, dev_lbl = read_data('data/n_val.csv')\n",
    "\n",
    "# create vocab from train seqs\n",
    "vocab = build_vocab_from_iterator(train_seqs, specials=['<UNK>'])\n",
    "vocab.set_default_index(vocab['<UNK>'])\n",
    "encode_text = lambda x: vocab(list(x))"
   ]
  },
  {
   "cell_type": "code",
   "execution_count": null,
   "id": "fff5c30b-2822-4871-8ab5-0ec37673f1f8",
   "metadata": {
    "id": "fff5c30b-2822-4871-8ab5-0ec37673f1f8",
    "outputId": "399c798a-c8b9-4cd6-d043-05209b207bea",
    "colab": {
     "base_uri": "https://localhost:8080/"
    }
   },
   "outputs": [
    {
     "output_type": "stream",
     "name": "stdout",
     "text": [
      "Total trainable model1 parameters: 5,276,009\n",
      "Total trainable model2 parameters: 5,276,009\n"
     ]
    }
   ],
   "source": [
    "NUM_EPOCHS = 25\n",
    "BATCH_SIZE = 512\n",
    "VOCAB_SIZE = len(vocab)\n",
    "EMBEDDING_DIM = 200\n",
    "RNN_SIZE1 = 256\n",
    "RNN_SIZE2 = 512\n",
    "HIDDEN_SIZE = 128\n",
    "DROPOUT = 0.5\n",
    "LEARNING_RATE = 5e-5\n",
    "\n",
    "\n",
    "model1 = BiLSTM(\n",
    "    vocab_size=VOCAB_SIZE,\n",
    "    embedding_dim=EMBEDDING_DIM,\n",
    "    rnn_size1=RNN_SIZE1,\n",
    "    rnn_size2=RNN_SIZE2,\n",
    "    hidden_size=HIDDEN_SIZE,\n",
    "    dropout=DROPOUT\n",
    ").to(device)\n",
    "\n",
    "model2 = BiLSTM(\n",
    "    vocab_size=VOCAB_SIZE,\n",
    "    embedding_dim=EMBEDDING_DIM,\n",
    "    rnn_size1=RNN_SIZE1,\n",
    "    rnn_size2=RNN_SIZE2,\n",
    "    hidden_size=HIDDEN_SIZE,\n",
    "    dropout=DROPOUT\n",
    ").to(device)\n",
    "\n",
    "optimizer = optim.Adam(model1.parameters(), lr=LEARNING_RATE)\n",
    "\n",
    "#criterion = nn.BCEWithLogitsLoss()\n",
    "\n",
    "# create train and dev loader\n",
    "train_data = CleavageDataset(train_seqs, train_lbl)\n",
    "train_loader = DataLoader(train_data, batch_size = BATCH_SIZE, shuffle=True, collate_fn=collate_wrapper, pin_memory=True, num_workers=2)\n",
    "\n",
    "dev_data = CleavageDataset(dev_seqs, dev_lbl)\n",
    "dev_loader = DataLoader(dev_data, batch_size = BATCH_SIZE, shuffle=True, collate_fn=collate_wrapper, pin_memory=True, num_workers=2)\n",
    "\n",
    "print(f\"Total trainable model1 parameters: {get_total_model_params(model1):,}\")\n",
    "print(f\"Total trainable model2 parameters: {get_total_model_params(model1):,}\")"
   ]
  },
  {
   "cell_type": "code",
   "execution_count": null,
   "id": "3fbe5697-c1a7-4f53-9826-9e91e80d0b18",
   "metadata": {
    "id": "3fbe5697-c1a7-4f53-9826-9e91e80d0b18",
    "outputId": "d82919c2-5c0e-4685-fcc6-1b4bfa43eb92",
    "colab": {
     "base_uri": "https://localhost:8080/"
    }
   },
   "outputs": [
    {
     "output_type": "stream",
     "name": "stdout",
     "text": [
      "Starting Training.\n",
      "Train: 100%|██████████| 2236/2236 [03:18<00:00, 11.26batches/s]\n",
      "Eval: 100%|██████████| 280/280 [00:09<00:00, 31.10batches/s]\n",
      "Model 1 Training:   [Epoch  1, Loss:   0.0000, Acc: 0.5792, AUC: 0.5015]\n",
      "Model 1 Evaluation: [Epoch  1, Loss:   0.0000, Acc: 0.5795, AUC: 0.5053]\n",
      "Model 2 Training:   [Epoch  1, Loss:   0.0000, Acc: 0.5792, AUC: 0.5025]\n",
      "Model 2 Evaluation: [Epoch  1, Loss:   0.0000, Acc: 0.5795, AUC: 0.5117]\n",
      "Train: 100%|██████████| 2236/2236 [03:18<00:00, 11.29batches/s]\n",
      "Eval: 100%|██████████| 280/280 [00:08<00:00, 31.43batches/s]\n",
      "Model 1 Training:   [Epoch  2, Loss:   0.0000, Acc: 0.5792, AUC: 0.5013]\n",
      "Model 1 Evaluation: [Epoch  2, Loss:   0.0000, Acc: 0.5795, AUC: 0.5053]\n",
      "Model 2 Training:   [Epoch  2, Loss:   0.0000, Acc: 0.5792, AUC: 0.5023]\n",
      "Model 2 Evaluation: [Epoch  2, Loss:   0.0000, Acc: 0.5795, AUC: 0.5117]\n",
      "Train: 100%|██████████| 2236/2236 [03:17<00:00, 11.31batches/s]\n",
      "Eval: 100%|██████████| 280/280 [00:08<00:00, 31.39batches/s]\n",
      "Model 1 Training:   [Epoch  3, Loss:   0.0000, Acc: 0.5792, AUC: 0.5015]\n",
      "Model 1 Evaluation: [Epoch  3, Loss:   0.0000, Acc: 0.5795, AUC: 0.5053]\n",
      "Model 2 Training:   [Epoch  3, Loss:   0.0000, Acc: 0.5792, AUC: 0.5028]\n",
      "Model 2 Evaluation: [Epoch  3, Loss:   0.0000, Acc: 0.5795, AUC: 0.5117]\n",
      "Train: 100%|██████████| 2236/2236 [03:17<00:00, 11.30batches/s]\n",
      "Eval: 100%|██████████| 280/280 [00:08<00:00, 31.53batches/s]\n",
      "Model 1 Training:   [Epoch  4, Loss:   0.0000, Acc: 0.5792, AUC: 0.5022]\n",
      "Model 1 Evaluation: [Epoch  4, Loss:   0.0000, Acc: 0.5795, AUC: 0.5053]\n",
      "Model 2 Training:   [Epoch  4, Loss:   0.0000, Acc: 0.5792, AUC: 0.5030]\n",
      "Model 2 Evaluation: [Epoch  4, Loss:   0.0000, Acc: 0.5795, AUC: 0.5117]\n",
      "Train: 100%|██████████| 2236/2236 [03:17<00:00, 11.31batches/s]\n",
      "Eval: 100%|██████████| 280/280 [00:08<00:00, 31.15batches/s]\n",
      "Model 1 Training:   [Epoch  5, Loss:   0.0000, Acc: 0.5792, AUC: 0.5017]\n",
      "Model 1 Evaluation: [Epoch  5, Loss:   0.0000, Acc: 0.5795, AUC: 0.5053]\n",
      "Model 2 Training:   [Epoch  5, Loss:   0.0000, Acc: 0.5792, AUC: 0.5025]\n",
      "Model 2 Evaluation: [Epoch  5, Loss:   0.0000, Acc: 0.5795, AUC: 0.5117]\n",
      "Train: 100%|██████████| 2236/2236 [03:17<00:00, 11.30batches/s]\n",
      "Eval: 100%|██████████| 280/280 [00:09<00:00, 30.95batches/s]\n",
      "Model 1 Training:   [Epoch  6, Loss:   0.0000, Acc: 0.5792, AUC: 0.5021]\n",
      "Model 1 Evaluation: [Epoch  6, Loss:   0.0000, Acc: 0.5795, AUC: 0.5053]\n",
      "Model 2 Training:   [Epoch  6, Loss:   0.0000, Acc: 0.5792, AUC: 0.5025]\n",
      "Model 2 Evaluation: [Epoch  6, Loss:   0.0000, Acc: 0.5795, AUC: 0.5117]\n",
      "Train: 100%|██████████| 2236/2236 [03:17<00:00, 11.30batches/s]\n",
      "Eval: 100%|██████████| 280/280 [00:08<00:00, 31.49batches/s]\n",
      "Model 1 Training:   [Epoch  7, Loss:   0.0000, Acc: 0.5792, AUC: 0.5019]\n",
      "Model 1 Evaluation: [Epoch  7, Loss:   0.0000, Acc: 0.5795, AUC: 0.5053]\n",
      "Model 2 Training:   [Epoch  7, Loss:   0.0000, Acc: 0.5792, AUC: 0.5030]\n",
      "Model 2 Evaluation: [Epoch  7, Loss:   0.0000, Acc: 0.5795, AUC: 0.5117]\n",
      "Train: 100%|██████████| 2236/2236 [03:17<00:00, 11.32batches/s]\n",
      "Eval: 100%|██████████| 280/280 [00:08<00:00, 31.38batches/s]\n",
      "Model 1 Training:   [Epoch  8, Loss:   0.0000, Acc: 0.5792, AUC: 0.5016]\n",
      "Model 1 Evaluation: [Epoch  8, Loss:   0.0000, Acc: 0.5795, AUC: 0.5053]\n",
      "Model 2 Training:   [Epoch  8, Loss:   0.0000, Acc: 0.5792, AUC: 0.5034]\n",
      "Model 2 Evaluation: [Epoch  8, Loss:   0.0000, Acc: 0.5795, AUC: 0.5117]\n",
      "Train: 100%|██████████| 2236/2236 [03:17<00:00, 11.32batches/s]\n",
      "Eval: 100%|██████████| 280/280 [00:09<00:00, 30.58batches/s]\n",
      "Model 1 Training:   [Epoch  9, Loss:   0.0000, Acc: 0.5792, AUC: 0.5011]\n",
      "Model 1 Evaluation: [Epoch  9, Loss:   0.0000, Acc: 0.5795, AUC: 0.5053]\n",
      "Model 2 Training:   [Epoch  9, Loss:   0.0000, Acc: 0.5792, AUC: 0.5024]\n",
      "Model 2 Evaluation: [Epoch  9, Loss:   0.0000, Acc: 0.5795, AUC: 0.5117]\n",
      "Train: 100%|██████████| 2236/2236 [03:17<00:00, 11.32batches/s]\n",
      "Eval: 100%|██████████| 280/280 [00:08<00:00, 31.40batches/s]\n",
      "Model 1 Training:   [Epoch 10, Loss:   0.0000, Acc: 0.5792, AUC: 0.5005]\n",
      "Model 1 Evaluation: [Epoch 10, Loss:   0.0000, Acc: 0.5795, AUC: 0.5053]\n",
      "Model 2 Training:   [Epoch 10, Loss:   0.0000, Acc: 0.5792, AUC: 0.5023]\n",
      "Model 2 Evaluation: [Epoch 10, Loss:   0.0000, Acc: 0.5795, AUC: 0.5117]\n",
      "Train: 100%|██████████| 2236/2236 [03:17<00:00, 11.33batches/s]\n",
      "Eval: 100%|██████████| 280/280 [00:08<00:00, 31.46batches/s]\n",
      "Model 1 Training:   [Epoch 11, Loss:   0.0000, Acc: 0.5792, AUC: 0.5021]\n",
      "Model 1 Evaluation: [Epoch 11, Loss:   0.0000, Acc: 0.5795, AUC: 0.5053]\n",
      "Model 2 Training:   [Epoch 11, Loss:   0.0000, Acc: 0.5792, AUC: 0.5034]\n",
      "Model 2 Evaluation: [Epoch 11, Loss:   0.0000, Acc: 0.5795, AUC: 0.5117]\n",
      "Train: 100%|██████████| 2236/2236 [03:17<00:00, 11.31batches/s]\n",
      "Eval: 100%|██████████| 280/280 [00:08<00:00, 31.25batches/s]\n",
      "Model 1 Training:   [Epoch 12, Loss:   0.0000, Acc: 0.5792, AUC: 0.5019]\n",
      "Model 1 Evaluation: [Epoch 12, Loss:   0.0000, Acc: 0.5795, AUC: 0.5053]\n",
      "Model 2 Training:   [Epoch 12, Loss:   0.0000, Acc: 0.5792, AUC: 0.5028]\n",
      "Model 2 Evaluation: [Epoch 12, Loss:   0.0000, Acc: 0.5795, AUC: 0.5117]\n",
      "Train: 100%|██████████| 2236/2236 [03:17<00:00, 11.32batches/s]\n",
      "Eval: 100%|██████████| 280/280 [00:08<00:00, 31.18batches/s]\n",
      "Model 1 Training:   [Epoch 13, Loss:   0.0000, Acc: 0.5792, AUC: 0.4981]\n",
      "Model 1 Evaluation: [Epoch 13, Loss:   0.0000, Acc: 0.5795, AUC: 0.4707]\n",
      "Model 2 Training:   [Epoch 13, Loss:   0.0000, Acc: 0.5792, AUC: 0.5025]\n",
      "Model 2 Evaluation: [Epoch 13, Loss:   0.0000, Acc: 0.5795, AUC: 0.5117]\n",
      "Train: 100%|██████████| 2236/2236 [03:17<00:00, 11.31batches/s]\n",
      "Eval: 100%|██████████| 280/280 [00:08<00:00, 31.12batches/s]\n",
      "Model 1 Training:   [Epoch 14, Loss:   0.0000, Acc: 0.5792, AUC: 0.4889]\n",
      "Model 1 Evaluation: [Epoch 14, Loss:   0.0000, Acc: 0.5795, AUC: 0.4707]\n",
      "Model 2 Training:   [Epoch 14, Loss:   0.0000, Acc: 0.5792, AUC: 0.5023]\n",
      "Model 2 Evaluation: [Epoch 14, Loss:   0.0000, Acc: 0.5795, AUC: 0.5117]\n",
      "Train: 100%|██████████| 2236/2236 [03:17<00:00, 11.30batches/s]\n",
      "Eval: 100%|██████████| 280/280 [00:08<00:00, 31.54batches/s]\n",
      "Model 1 Training:   [Epoch 15, Loss:   0.0000, Acc: 0.5792, AUC: 0.4877]\n",
      "Model 1 Evaluation: [Epoch 15, Loss:   0.0000, Acc: 0.5795, AUC: 0.4707]\n",
      "Model 2 Training:   [Epoch 15, Loss:   0.0000, Acc: 0.5792, AUC: 0.5022]\n",
      "Model 2 Evaluation: [Epoch 15, Loss:   0.0000, Acc: 0.5795, AUC: 0.5117]\n",
      "Train: 100%|██████████| 2236/2236 [03:17<00:00, 11.30batches/s]\n",
      "Eval: 100%|██████████| 280/280 [00:09<00:00, 30.95batches/s]\n",
      "Model 1 Training:   [Epoch 16, Loss:   0.0000, Acc: 0.5792, AUC: 0.4888]\n",
      "Model 1 Evaluation: [Epoch 16, Loss:   0.0000, Acc: 0.5795, AUC: 0.4707]\n",
      "Model 2 Training:   [Epoch 16, Loss:   0.0000, Acc: 0.5792, AUC: 0.5029]\n",
      "Model 2 Evaluation: [Epoch 16, Loss:   0.0000, Acc: 0.5795, AUC: 0.5117]\n",
      "Train: 100%|██████████| 2236/2236 [03:17<00:00, 11.29batches/s]\n",
      "Eval: 100%|██████████| 280/280 [00:08<00:00, 31.17batches/s]\n",
      "Model 1 Training:   [Epoch 17, Loss:   0.0000, Acc: 0.5792, AUC: 0.4879]\n",
      "Model 1 Evaluation: [Epoch 17, Loss:   0.0000, Acc: 0.5795, AUC: 0.4707]\n",
      "Model 2 Training:   [Epoch 17, Loss:   0.0000, Acc: 0.5792, AUC: 0.5022]\n",
      "Model 2 Evaluation: [Epoch 17, Loss:   0.0000, Acc: 0.5795, AUC: 0.5117]\n",
      "Train: 100%|██████████| 2236/2236 [03:17<00:00, 11.31batches/s]\n",
      "Eval: 100%|██████████| 280/280 [00:09<00:00, 30.94batches/s]\n",
      "Model 1 Training:   [Epoch 18, Loss:   0.0000, Acc: 0.5792, AUC: 0.4878]\n",
      "Model 1 Evaluation: [Epoch 18, Loss:   0.0000, Acc: 0.5795, AUC: 0.4707]\n",
      "Model 2 Training:   [Epoch 18, Loss:   0.0000, Acc: 0.5792, AUC: 0.5028]\n",
      "Model 2 Evaluation: [Epoch 18, Loss:   0.0000, Acc: 0.5795, AUC: 0.5117]\n",
      "Train: 100%|██████████| 2236/2236 [03:17<00:00, 11.31batches/s]\n",
      "Eval: 100%|██████████| 280/280 [00:09<00:00, 31.08batches/s]\n",
      "Model 1 Training:   [Epoch 19, Loss:   0.0000, Acc: 0.5792, AUC: 0.4882]\n",
      "Model 1 Evaluation: [Epoch 19, Loss:   0.0000, Acc: 0.5795, AUC: 0.4707]\n",
      "Model 2 Training:   [Epoch 19, Loss:   0.0000, Acc: 0.5792, AUC: 0.5028]\n",
      "Model 2 Evaluation: [Epoch 19, Loss:   0.0000, Acc: 0.5795, AUC: 0.5117]\n",
      "Train: 100%|██████████| 2236/2236 [03:17<00:00, 11.31batches/s]\n",
      "Eval: 100%|██████████| 280/280 [00:08<00:00, 31.17batches/s]\n",
      "Model 1 Training:   [Epoch 20, Loss:   0.0000, Acc: 0.5792, AUC: 0.4885]\n",
      "Model 1 Evaluation: [Epoch 20, Loss:   0.0000, Acc: 0.5795, AUC: 0.4707]\n",
      "Model 2 Training:   [Epoch 20, Loss:   0.0000, Acc: 0.5792, AUC: 0.5027]\n",
      "Model 2 Evaluation: [Epoch 20, Loss:   0.0000, Acc: 0.5795, AUC: 0.5117]\n",
      "Train: 100%|██████████| 2236/2236 [03:18<00:00, 11.29batches/s]\n",
      "Eval: 100%|██████████| 280/280 [00:08<00:00, 31.30batches/s]\n",
      "Model 1 Training:   [Epoch 21, Loss:   0.0000, Acc: 0.5792, AUC: 0.4882]\n",
      "Model 1 Evaluation: [Epoch 21, Loss:   0.0000, Acc: 0.5795, AUC: 0.4707]\n",
      "Model 2 Training:   [Epoch 21, Loss:   0.0000, Acc: 0.5792, AUC: 0.5028]\n",
      "Model 2 Evaluation: [Epoch 21, Loss:   0.0000, Acc: 0.5795, AUC: 0.5117]\n",
      "Train: 100%|██████████| 2236/2236 [03:17<00:00, 11.30batches/s]\n",
      "Eval: 100%|██████████| 280/280 [00:08<00:00, 31.37batches/s]\n",
      "Model 1 Training:   [Epoch 22, Loss:   0.0000, Acc: 0.5792, AUC: 0.4877]\n",
      "Model 1 Evaluation: [Epoch 22, Loss:   0.0000, Acc: 0.5795, AUC: 0.4707]\n",
      "Model 2 Training:   [Epoch 22, Loss:   0.0000, Acc: 0.5792, AUC: 0.5035]\n",
      "Model 2 Evaluation: [Epoch 22, Loss:   0.0000, Acc: 0.5795, AUC: 0.5117]\n",
      "Train: 100%|██████████| 2236/2236 [03:17<00:00, 11.31batches/s]\n",
      "Eval: 100%|██████████| 280/280 [00:08<00:00, 31.36batches/s]\n",
      "Model 1 Training:   [Epoch 23, Loss:   0.0000, Acc: 0.5792, AUC: 0.4877]\n",
      "Model 1 Evaluation: [Epoch 23, Loss:   0.0000, Acc: 0.5795, AUC: 0.4707]\n",
      "Model 2 Training:   [Epoch 23, Loss:   0.0000, Acc: 0.5792, AUC: 0.5021]\n",
      "Model 2 Evaluation: [Epoch 23, Loss:   0.0000, Acc: 0.5795, AUC: 0.5117]\n",
      "Train: 100%|██████████| 2236/2236 [03:17<00:00, 11.30batches/s]\n",
      "Eval: 100%|██████████| 280/280 [00:08<00:00, 31.14batches/s]\n",
      "Model 1 Training:   [Epoch 24, Loss:   0.0000, Acc: 0.5792, AUC: 0.4878]\n",
      "Model 1 Evaluation: [Epoch 24, Loss:   0.0000, Acc: 0.5795, AUC: 0.4707]\n",
      "Model 2 Training:   [Epoch 24, Loss:   0.0000, Acc: 0.5792, AUC: 0.5025]\n",
      "Model 2 Evaluation: [Epoch 24, Loss:   0.0000, Acc: 0.5795, AUC: 0.5117]\n",
      "Train: 100%|██████████| 2236/2236 [03:17<00:00, 11.32batches/s]\n",
      "Eval: 100%|██████████| 280/280 [00:08<00:00, 31.50batches/s]\n",
      "Model 1 Training:   [Epoch 25, Loss:   0.0000, Acc: 0.5792, AUC: 0.4884]\n",
      "Model 1 Evaluation: [Epoch 25, Loss:   0.0000, Acc: 0.5795, AUC: 0.4707]\n",
      "Model 2 Training:   [Epoch 25, Loss:   0.0000, Acc: 0.5792, AUC: 0.5026]\n",
      "Model 2 Evaluation: [Epoch 25, Loss:   0.0000, Acc: 0.5795, AUC: 0.5117]\n",
      "Finished Training.\n",
      "Training took 86.89533097743988 minutes.\n"
     ]
    }
   ],
   "source": [
    "start = time()\n",
    "print(\"Starting Training.\")\n",
    "\n",
    "highest_val_auc1, highest_val_auc2 = 0,0\n",
    "train_losses1, train_accuracies1, train_aucs1= [], [], []\n",
    "train_losses2, train_accuracies2, train_aucs2= [], [], []\n",
    "val_losses1, val_accuracies1, val_aucs1 = [], [], []\n",
    "val_losses2, val_accuracies2, val_aucs2 = [], [], []\n",
    "\n",
    "for epoch in range(1, NUM_EPOCHS + 1):\n",
    "    model1.train()\n",
    "    model2.train()\n",
    "    train_loss1, train_loss2, train_acc1, train_acc2, train_auc1, train_auc2 = train(model1, model2, train_loader, optimizer)\n",
    "    \n",
    "    model1.eval()\n",
    "    model2.eval()\n",
    "    with torch.no_grad():\n",
    "        val_loss1, val_loss2, val_acc1, val_acc2, val_auc1, val_auc2 = evaluate(model1, model2, dev_loader)\n",
    "        \n",
    "    # save current acc, loss model1\n",
    "    train_losses1.append((epoch, train_loss1))\n",
    "    train_accuracies1.append((epoch, train_acc1))\n",
    "    train_aucs1.append((epoch, train_auc1))\n",
    "    val_losses1.append((epoch, val_loss1))\n",
    "    val_accuracies1.append((epoch, val_acc1))\n",
    "    val_aucs1.append((epoch, val_auc1))\n",
    "    \n",
    "    if val_auc1 > highest_val_auc1:\n",
    "        highest_val_auc1 = val_auc1\n",
    "        path = f\"params/decoupling/model1_auc{val_auc1:.4f}_epoch{epoch}.pt\"\n",
    "        torch.save(model1.state_dict(), path)\n",
    "        \n",
    "    print(f\"Model 1 Training:   [Epoch {epoch:2d}, Loss: {train_loss1:8.4f}, Acc: {train_acc1:.4f}, AUC: {train_auc1:.4f}]\")\n",
    "    print(f\"Model 1 Evaluation: [Epoch {epoch:2d}, Loss: {val_loss1:8.4f}, Acc: {val_acc1:.4f}, AUC: {val_auc1:.4f}]\")\n",
    "\n",
    "    # save current acc, loss model2\n",
    "    train_losses2.append((epoch, train_loss2))\n",
    "    train_accuracies2.append((epoch, train_acc2))\n",
    "    train_aucs2.append((epoch, train_auc2))\n",
    "    val_losses2.append((epoch, val_loss2))\n",
    "    val_accuracies2.append((epoch, val_acc2))\n",
    "    val_aucs2.append((epoch, val_auc2))\n",
    "    \n",
    "    if val_auc2 > highest_val_auc2:\n",
    "        highest_val_auc2 = val_auc2\n",
    "        path = f\"params/decoupling/model2_auc{val_auc2:.4f}_epoch{epoch}.pt\"\n",
    "        torch.save(model2.state_dict(), path)\n",
    "        \n",
    "    print(f\"Model 2 Training:   [Epoch {epoch:2d}, Loss: {train_loss2:8.4f}, Acc: {train_acc2:.4f}, AUC: {train_auc2:.4f}]\")\n",
    "    print(f\"Model 2 Evaluation: [Epoch {epoch:2d}, Loss: {val_loss2:8.4f}, Acc: {val_acc2:.4f}, AUC: {val_auc2:.4f}]\")\n",
    "\n",
    "    \n",
    "print(\"Finished Training.\")\n",
    "train_time = (time() - start) / 60\n",
    "print(f\"Training took {train_time} minutes.\")"
   ]
  },
  {
   "cell_type": "code",
   "execution_count": null,
   "outputs": [],
   "source": [
    "# save training stats\n",
    "lsts = [train_losses, train_accuracies, val_losses, val_accuracies, train_aucs, val_aucs, train_time]\n",
    "names = [\n",
    "    \"train_losses\",\n",
    "    \"train_accuracies\",\n",
    "    \"val_losses\",\n",
    "    \"val_accuracies\",\n",
    "    \"train_aucs\",\n",
    "    \"val_aucs\",\n",
    "    \"train_time\",\n",
    "]\n",
    "to_save = dict()\n",
    "for name, lst in zip(names, lsts):\n",
    "    to_save[name] = lst\n",
    "\n",
    "with open(f\"../../params/n_term/BiLSTM/metrics.pkl\", \"wb\") as f:\n",
    "    pickle.dump(to_save, f, pickle.HIGHEST_PROTOCOL)\n",
    "\n",
    "print(\"Finished Saving Details.\")"
   ],
   "metadata": {
    "collapsed": false,
    "pycharm": {
     "name": "#%%\n"
    }
   }
  },
  {
   "cell_type": "code",
   "execution_count": null,
   "id": "126fd50d-b4b5-4da7-a8e5-8ebeed450b22",
   "metadata": {
    "id": "126fd50d-b4b5-4da7-a8e5-8ebeed450b22"
   },
   "outputs": [],
   "source": []
  },
  {
   "cell_type": "code",
   "execution_count": null,
   "id": "08b9f839-ffcd-4d84-b060-80bb75be99e7",
   "metadata": {
    "id": "08b9f839-ffcd-4d84-b060-80bb75be99e7"
   },
   "outputs": [],
   "source": []
  }
 ],
 "metadata": {
  "kernelspec": {
   "display_name": "Python 3 (ipykernel)",
   "language": "python",
   "name": "python3"
  },
  "language_info": {
   "codemirror_mode": {
    "name": "ipython",
    "version": 3
   },
   "file_extension": ".py",
   "mimetype": "text/x-python",
   "name": "python",
   "nbconvert_exporter": "python",
   "pygments_lexer": "ipython3",
   "version": "3.10.4"
  },
  "colab": {
   "provenance": [],
   "collapsed_sections": []
  },
  "accelerator": "GPU",
  "gpuClass": "standard"
 },
 "nbformat": 4,
 "nbformat_minor": 5
}