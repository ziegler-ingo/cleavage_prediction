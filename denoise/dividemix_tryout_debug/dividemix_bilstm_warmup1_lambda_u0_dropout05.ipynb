{
 "cells": [
  {
   "cell_type": "markdown",
   "id": "82aeeff0-f585-4543-9711-5e5de470ee9c",
   "metadata": {},
   "source": [
    "# Note: The n-term dataset used here is not the final n-term dataset. Results are not directly comparable."
   ]
  },
  {
   "cell_type": "code",
   "execution_count": 1,
   "id": "8b376cff-a0bb-42ab-8e39-4a964c417dc7",
   "metadata": {},
   "outputs": [],
   "source": [
    "import sys\n",
    "sys.path.append('../denoise/')\n",
    "\n",
    "import os\n",
    "import math\n",
    "import pickle\n",
    "import random\n",
    "import numpy as np\n",
    "from time import time\n",
    "\n",
    "import torch\n",
    "import torch.nn as nn\n",
    "import torch.optim as optim\n",
    "from torch.nn.utils.parametrizations import spectral_norm\n",
    "\n",
    "import matplotlib.pyplot as plt\n",
    "%matplotlib inline\n",
    "\n",
    "from divide_mix.data_handling import CleavageLoader\n",
    "from divide_mix.train_utils import (\n",
    "    NegEntropy,\n",
    "    SemiLoss,\n",
    "    warmup,\n",
    "    train,\n",
    "    evaluate,\n",
    "    process_gmm\n",
    ")"
   ]
  },
  {
   "cell_type": "code",
   "execution_count": 2,
   "id": "db1fd9d5-ed2f-49d4-99ae-bccc7ddcee25",
   "metadata": {},
   "outputs": [],
   "source": [
    "def seed_everything(seed: int):\n",
    "    random.seed(seed)\n",
    "    os.environ['PYTHONHASHSEED'] = str(seed)\n",
    "    np.random.seed(seed)\n",
    "    torch.manual_seed(seed)\n",
    "    torch.cuda.manual_seed(seed)\n",
    "    torch.backends.cudnn.deterministic = True\n",
    "    torch.backends.cudnn.benchmark = True\n",
    "    \n",
    "seed_everything(1234)"
   ]
  },
  {
   "cell_type": "code",
   "execution_count": 3,
   "id": "caa607d1-bf4e-459d-b577-b3d10235a68a",
   "metadata": {},
   "outputs": [],
   "source": [
    "# number of trainable parameters in model\n",
    "def get_total_model_params(model):\n",
    "    return sum(p.numel() for p in model.parameters() if p.requires_grad)\n",
    "\n",
    "\n",
    "def gelu(x):\n",
    "    \"\"\"\n",
    "    Facebook Research implementation of the gelu activation function.\n",
    "    \n",
    "    For information: OpenAI GPT's gelu is slightly different\n",
    "    (and gives slightly different results):\n",
    "    0.5 * x * (1 + torch.tanh(math.sqrt(2 / math.pi) * (x + 0.044715 * torch.pow(x, 3))))\n",
    "    \"\"\"\n",
    "    return x * 0.5 * (1.0 + torch.erf(x / math.sqrt(2.0)))"
   ]
  },
  {
   "cell_type": "code",
   "execution_count": 4,
   "id": "228ec4a9-8484-45d5-8af5-b8459f876d6d",
   "metadata": {},
   "outputs": [],
   "source": [
    "class BiLSTM(nn.Module):\n",
    "    def __init__(self, vocab_size, embedding_dim, rnn_size1, rnn_size2, hidden_size, dropout1, dropout2):\n",
    "        super().__init__()\n",
    "        \n",
    "        self.embedding = nn.Embedding(\n",
    "            num_embeddings=vocab_size,\n",
    "            embedding_dim=embedding_dim,\n",
    "        )\n",
    "        \n",
    "        self.dropout1=nn.Dropout(dropout1)\n",
    "        self.dropout2=nn.Dropout(dropout2)\n",
    "        \n",
    "        self.lstm1 = nn.LSTM(\n",
    "            input_size=embedding_dim,\n",
    "            hidden_size=rnn_size1,\n",
    "            bidirectional=True,\n",
    "            batch_first=True,\n",
    "        )\n",
    "\n",
    "        self.lstm2 = nn.LSTM(\n",
    "            input_size=2 * rnn_size1,\n",
    "            hidden_size=rnn_size2,\n",
    "            bidirectional=True,\n",
    "            batch_first=True,\n",
    "        )\n",
    "        \n",
    "        self.fc1 = spectral_norm(nn.Linear(rnn_size2 * 2, hidden_size))\n",
    "        self.fc2 = nn.Linear(hidden_size, 2)\n",
    "        \n",
    "    \n",
    "    def no_embed_fw(self, embedded):\n",
    "        # input shape: (batch_size, seq_len, embedding_dim)\n",
    "        out, _ = self.lstm1(embedded)\n",
    "        \n",
    "        # input shape: (batch_size, seq_len, 2*rnn_size1)\n",
    "        out, _ = self.lstm2(out)\n",
    "        \n",
    "        # input shape: (batch_size, seq_len, 2*hidden_size)\n",
    "        pooled, _ = torch.max(out, dim=1)\n",
    "        \n",
    "        # input shape: (batch_size, 2*hidden_size)\n",
    "        out = self.dropout1(gelu(self.fc1(pooled)))\n",
    "        \n",
    "        # input shape: (batch_size, hidden_size)\n",
    "        # output shape: (batch_size, 2)\n",
    "        return self.fc2(out)\n",
    "    \n",
    "    def forward(self, seq, seq2=None, lam=None, interpolate=False):\n",
    "        if interpolate:\n",
    "            # input shape: (batch_size, seq_len=10)\n",
    "            embedded1 = self.embedding(seq)\n",
    "            embedded2 = self.embedding(seq2)\n",
    "            embedded_mixed = lam * embedded1 + (1 - lam) * embedded2\n",
    "            return self.no_embed_fw(self.dropout2(embedded_mixed))\n",
    "        else:\n",
    "            # input shape: (batch_size, seq_len=10)\n",
    "            embedded = self.dropout1(self.embedding(seq))\n",
    "            return self.no_embed_fw(embedded)"
   ]
  },
  {
   "cell_type": "code",
   "execution_count": 5,
   "id": "1574351f-3461-4821-baee-c2eb4da25a96",
   "metadata": {},
   "outputs": [],
   "source": [
    "BATCH_SIZE = 64\n",
    "LR = 5e-5\n",
    "ALPHA = 0.5\n",
    "LAMBDA_U = 0\n",
    "P_THRESHOLD = 0.5\n",
    "TEMPERATURE = 0.5\n",
    "NUM_EPOCHS = 10\n",
    "NUM_WARM_UP_EPOCHS = 1\n",
    "RAMPUP_LEN = 5\n",
    "NUM_CLASSES = 2\n",
    "\n",
    "vocab = torch.load('../data/vocab.pt')\n",
    "device = \"cuda:0\" if torch.cuda.is_available() else \"cpu\"\n",
    "beta_dist = torch.distributions.beta.Beta(ALPHA, ALPHA)\n",
    "loader = CleavageLoader(batch_size=BATCH_SIZE, num_workers=10)"
   ]
  },
  {
   "cell_type": "code",
   "execution_count": 6,
   "id": "c8270e3c-2991-4df1-8371-c5ef80139f85",
   "metadata": {},
   "outputs": [],
   "source": [
    "model1 = BiLSTM(\n",
    "    vocab_size=len(vocab),\n",
    "    embedding_dim=200,\n",
    "    rnn_size1=256,\n",
    "    rnn_size2=512,\n",
    "    hidden_size=128,\n",
    "    dropout1=0.5,\n",
    "    dropout2=0.5\n",
    ").to(device)\n",
    "\n",
    "model2 = BiLSTM(\n",
    "    vocab_size=len(vocab),\n",
    "    embedding_dim=20,\n",
    "    rnn_size1=256,\n",
    "    rnn_size2=512,\n",
    "    hidden_size=128,\n",
    "    dropout1=0.5,\n",
    "    dropout2=0.5\n",
    ").to(device)\n",
    "\n",
    "optimizer1 = optim.Adam(model1.parameters(), lr=LR)\n",
    "optimizer2 = optim.Adam(model2.parameters(), lr=LR)\n",
    "\n",
    "criterion = SemiLoss()\n",
    "conf_penalty = NegEntropy()\n",
    "CEloss = nn.CrossEntropyLoss()\n",
    "CE = nn.CrossEntropyLoss(reduction=\"none\")"
   ]
  },
  {
   "cell_type": "code",
   "execution_count": 7,
   "id": "59aeee47-a9fa-4c77-9058-f619df3886a8",
   "metadata": {
    "tags": []
   },
   "outputs": [
    {
     "name": "stdout",
     "output_type": "stream",
     "text": [
      "warmup: 100%|██████████████████████████████████████████████████| 2236/2236 [00:20<00:00, 110.83batches/s]\n",
      "warmup: 100%|██████████████████████████████████████████████████| 2236/2236 [00:20<00:00, 111.56batches/s]\n",
      "Warm-Up Model1: [Epoch  1, Loss: -0.000036, Acc: 0.6033, AUC: 0.6193]\n",
      "Warm-Up Model2: [Epoch  1, Loss: -0.000026, Acc: 0.5907, AUC: 0.5887]\n",
      "evaluate: 100%|███████████████████████████████████████████████████| 140/140 [00:01<00:00, 86.64batches/s]\n",
      "Evaluation Set: [Epoch  1, Loss: 0.589756, Acc: 0.6788, AUC: 0.7463]\n",
      "GMM processing: 100%|██████████████████████████████████████████| 1118/1118 [00:05<00:00, 200.49batches/s]\n",
      "GMM processing: 100%|██████████████████████████████████████████| 1118/1118 [00:05<00:00, 210.27batches/s]\n",
      "pred1 clean: 680629, pred1 noisy: 463837, total: 1144466\n",
      "pred2 clean: 373499, pred2 noisy: 770967, total: 1144466\n",
      "length of clean dataset based on pred2: 373499\n",
      "length of noisy dataset based on pred2: 770967\n",
      "train model1: 100%|█████████████████████████████████████████████| 5836/5836 [01:04<00:00, 91.17batches/s]\n",
      "length of clean dataset based on pred1: 680629\n",
      "length of noisy dataset based on pred1: 463837\n",
      "train model2: 100%|███████████████████████████████████████████| 10635/10635 [01:55<00:00, 92.38batches/s]\n",
      "evaluate: 100%|███████████████████████████████████████████████████| 140/140 [00:01<00:00, 88.09batches/s]\n",
      "Training Set: [Epoch  2, Loss1: 0.610691, Loss2: 0.638930]\n",
      "DivideMix Training: [Epoch  2, Loss1: 0.001053, Loss2: 0.001703]\n",
      "Evaluation Set: [Epoch  2, Loss: 1.664683, Acc: 0.6678, AUC: 0.7318]\n",
      "GMM processing: 100%|██████████████████████████████████████████| 1118/1118 [00:05<00:00, 194.87batches/s]\n",
      "GMM processing: 100%|██████████████████████████████████████████| 1118/1118 [00:05<00:00, 205.09batches/s]\n",
      "pred1 clean: 753518, pred1 noisy: 390948, total: 1144466\n",
      "pred2 clean: 727714, pred2 noisy: 416752, total: 1144466\n",
      "length of clean dataset based on pred2: 727714\n",
      "length of noisy dataset based on pred2: 416752\n",
      "train model1: 100%|███████████████████████████████████████████| 11371/11371 [02:02<00:00, 92.83batches/s]\n",
      "length of clean dataset based on pred1: 753518\n",
      "length of noisy dataset based on pred1: 390948\n",
      "train model2: 100%|███████████████████████████████████████████| 11774/11774 [02:08<00:00, 91.44batches/s]\n",
      "evaluate: 100%|███████████████████████████████████████████████████| 140/140 [00:01<00:00, 86.55batches/s]\n",
      "Training Set: [Epoch  3, Loss1: 1.254367, Loss2: 0.721594]\n",
      "DivideMix Training: [Epoch  3, Loss1: 0.001278, Loss2: 0.001615]\n",
      "Evaluation Set: [Epoch  3, Loss: 1.641818, Acc: 0.6740, AUC: 0.7352]\n",
      "GMM processing: 100%|██████████████████████████████████████████| 1118/1118 [00:05<00:00, 197.10batches/s]\n",
      "GMM processing: 100%|██████████████████████████████████████████| 1118/1118 [00:05<00:00, 206.70batches/s]\n",
      "pred1 clean: 765594, pred1 noisy: 378872, total: 1144466\n",
      "pred2 clean: 703351, pred2 noisy: 441115, total: 1144466\n",
      "length of clean dataset based on pred2: 703351\n",
      "length of noisy dataset based on pred2: 441115\n",
      "train model1: 100%|███████████████████████████████████████████| 10990/10990 [02:01<00:00, 90.33batches/s]\n",
      "length of clean dataset based on pred1: 765594\n",
      "length of noisy dataset based on pred1: 378872\n",
      "train model2: 100%|███████████████████████████████████████████| 11963/11963 [02:12<00:00, 90.57batches/s]\n",
      "evaluate: 100%|███████████████████████████████████████████████████| 140/140 [00:01<00:00, 86.87batches/s]\n",
      "Training Set: [Epoch  4, Loss1: 1.174355, Loss2: 0.742335]\n",
      "DivideMix Training: [Epoch  4, Loss1: 0.001225, Loss2: 0.001524]\n",
      "Evaluation Set: [Epoch  4, Loss: 1.640316, Acc: 0.6690, AUC: 0.7265]\n",
      "GMM processing: 100%|██████████████████████████████████████████| 1118/1118 [00:05<00:00, 195.80batches/s]\n",
      "GMM processing: 100%|██████████████████████████████████████████| 1118/1118 [00:05<00:00, 205.67batches/s]\n",
      "pred1 clean: 760211, pred1 noisy: 384255, total: 1144466\n",
      "pred2 clean: 713090, pred2 noisy: 431376, total: 1144466\n",
      "length of clean dataset based on pred2: 713090\n",
      "length of noisy dataset based on pred2: 431376\n",
      "train model1: 100%|███████████████████████████████████████████| 11143/11143 [02:03<00:00, 90.07batches/s]\n",
      "length of clean dataset based on pred1: 760211\n",
      "length of noisy dataset based on pred1: 384255\n",
      "train model2: 100%|███████████████████████████████████████████| 11879/11879 [02:09<00:00, 91.77batches/s]\n",
      "evaluate: 100%|███████████████████████████████████████████████████| 140/140 [00:01<00:00, 87.73batches/s]\n",
      "Training Set: [Epoch  5, Loss1: 1.186425, Loss2: 0.719917]\n",
      "DivideMix Training: [Epoch  5, Loss1: 0.001199, Loss2: 0.001478]\n",
      "Evaluation Set: [Epoch  5, Loss: 1.768018, Acc: 0.6745, AUC: 0.7259]\n",
      "GMM processing: 100%|██████████████████████████████████████████| 1118/1118 [00:05<00:00, 197.48batches/s]\n",
      "GMM processing: 100%|██████████████████████████████████████████| 1118/1118 [00:05<00:00, 206.02batches/s]\n",
      "pred1 clean: 771254, pred1 noisy: 373212, total: 1144466\n",
      "pred2 clean: 717282, pred2 noisy: 427184, total: 1144466\n",
      "length of clean dataset based on pred2: 717282\n",
      "length of noisy dataset based on pred2: 427184\n",
      "train model1: 100%|███████████████████████████████████████████| 11208/11208 [02:04<00:00, 90.13batches/s]\n",
      "length of clean dataset based on pred1: 771254\n",
      "length of noisy dataset based on pred1: 373212\n",
      "train model2: 100%|███████████████████████████████████████████| 12051/12051 [02:10<00:00, 92.12batches/s]\n",
      "evaluate: 100%|███████████████████████████████████████████████████| 140/140 [00:01<00:00, 86.02batches/s]\n",
      "Training Set: [Epoch  6, Loss1: 1.254741, Loss2: 0.761928]\n",
      "DivideMix Training: [Epoch  6, Loss1: 0.001194, Loss2: 0.001458]\n",
      "Evaluation Set: [Epoch  6, Loss: 1.733525, Acc: 0.6695, AUC: 0.7269]\n",
      "GMM processing: 100%|██████████████████████████████████████████| 1118/1118 [00:05<00:00, 194.26batches/s]\n",
      "GMM processing: 100%|██████████████████████████████████████████| 1118/1118 [00:05<00:00, 203.79batches/s]\n",
      "pred1 clean: 764040, pred1 noisy: 380426, total: 1144466\n",
      "pred2 clean: 724059, pred2 noisy: 420407, total: 1144466\n",
      "length of clean dataset based on pred2: 724059\n",
      "length of noisy dataset based on pred2: 420407\n",
      "train model1: 100%|███████████████████████████████████████████| 11314/11314 [02:05<00:00, 90.12batches/s]\n",
      "length of clean dataset based on pred1: 764040\n",
      "length of noisy dataset based on pred1: 380426\n",
      "train model2: 100%|███████████████████████████████████████████| 11939/11939 [02:11<00:00, 91.09batches/s]\n",
      "evaluate: 100%|███████████████████████████████████████████████████| 140/140 [00:01<00:00, 85.04batches/s]\n",
      "Training Set: [Epoch  7, Loss1: 1.245938, Loss2: 0.733865]\n",
      "DivideMix Training: [Epoch  7, Loss1: 0.001184, Loss2: 0.001429]\n",
      "Evaluation Set: [Epoch  7, Loss: 1.661261, Acc: 0.6743, AUC: 0.7242]\n",
      "GMM processing: 100%|██████████████████████████████████████████| 1118/1118 [00:05<00:00, 193.26batches/s]\n",
      "GMM processing: 100%|██████████████████████████████████████████| 1118/1118 [00:05<00:00, 203.90batches/s]\n",
      "pred1 clean: 771235, pred1 noisy: 373231, total: 1144466\n",
      "pred2 clean: 722299, pred2 noisy: 422167, total: 1144466\n",
      "length of clean dataset based on pred2: 722299\n",
      "length of noisy dataset based on pred2: 422167\n",
      "train model1: 100%|███████████████████████████████████████████| 11286/11286 [02:05<00:00, 89.57batches/s]\n",
      "length of clean dataset based on pred1: 771235\n",
      "length of noisy dataset based on pred1: 373231\n",
      "train model2: 100%|███████████████████████████████████████████| 12051/12051 [02:12<00:00, 91.30batches/s]\n",
      "evaluate: 100%|███████████████████████████████████████████████████| 140/140 [00:01<00:00, 85.59batches/s]\n",
      "Training Set: [Epoch  8, Loss1: 1.212721, Loss2: 0.727260]\n",
      "DivideMix Training: [Epoch  8, Loss1: 0.001189, Loss2: 0.001416]\n",
      "Evaluation Set: [Epoch  8, Loss: 1.602485, Acc: 0.6691, AUC: 0.7278]\n",
      "GMM processing: 100%|██████████████████████████████████████████| 1118/1118 [00:05<00:00, 196.58batches/s]\n",
      "GMM processing: 100%|██████████████████████████████████████████| 1118/1118 [00:05<00:00, 205.73batches/s]\n",
      "pred1 clean: 763746, pred1 noisy: 380720, total: 1144466\n",
      "pred2 clean: 734661, pred2 noisy: 409805, total: 1144466\n",
      "length of clean dataset based on pred2: 734661\n",
      "length of noisy dataset based on pred2: 409805\n",
      "train model1: 100%|███████████████████████████████████████████| 11480/11480 [02:07<00:00, 90.21batches/s]\n",
      "length of clean dataset based on pred1: 763746\n",
      "length of noisy dataset based on pred1: 380720\n",
      "train model2: 100%|███████████████████████████████████████████| 11934/11934 [02:09<00:00, 91.86batches/s]\n",
      "evaluate: 100%|███████████████████████████████████████████████████| 140/140 [00:01<00:00, 86.69batches/s]\n",
      "Training Set: [Epoch  9, Loss1: 1.173923, Loss2: 0.697327]\n",
      "DivideMix Training: [Epoch  9, Loss1: 0.001180, Loss2: 0.001380]\n",
      "Evaluation Set: [Epoch  9, Loss: 1.594767, Acc: 0.6747, AUC: 0.7227]\n",
      "GMM processing: 100%|██████████████████████████████████████████| 1118/1118 [00:05<00:00, 196.97batches/s]\n",
      "GMM processing: 100%|██████████████████████████████████████████| 1118/1118 [00:05<00:00, 205.64batches/s]\n",
      "pred1 clean: 771967, pred1 noisy: 372499, total: 1144466\n",
      "pred2 clean: 734109, pred2 noisy: 410357, total: 1144466\n",
      "length of clean dataset based on pred2: 734109\n",
      "length of noisy dataset based on pred2: 410357\n",
      "train model1: 100%|███████████████████████████████████████████| 11471/11471 [02:08<00:00, 89.53batches/s]\n",
      "length of clean dataset based on pred1: 771967\n",
      "length of noisy dataset based on pred1: 372499\n",
      "train model2: 100%|███████████████████████████████████████████| 12062/12062 [02:11<00:00, 91.45batches/s]\n",
      "evaluate: 100%|███████████████████████████████████████████████████| 140/140 [00:01<00:00, 87.47batches/s]\n",
      "Training Set: [Epoch 10, Loss1: 1.184952, Loss2: 0.701840]\n",
      "DivideMix Training: [Epoch 10, Loss1: 0.001182, Loss2: 0.001378]\n",
      "Evaluation Set: [Epoch 10, Loss: 1.519668, Acc: 0.6705, AUC: 0.7169]\n",
      "Finished Training.\n",
      "Training took 41.12715763250987 minute.\n"
     ]
    }
   ],
   "source": [
    "warmup_loader = loader.load(terminus=\"n\", mode=\"warmup\")\n",
    "train_gmm_loader = loader.load(terminus=\"n\", mode=\"divide_by_GMM\")\n",
    "eval_loader = loader.load(terminus=\"n\", mode=\"evaluate\")\n",
    "\n",
    "start = time()\n",
    "highest_val_auc = 0\n",
    "for epoch in range(1, NUM_EPOCHS + 1):\n",
    "    if epoch < NUM_WARM_UP_EPOCHS + 1:\n",
    "        # run warm up model 1 and 2 while adding penalty for confident predictions\n",
    "        warmup_loss1, warmup_acc1, warmup_auc1 = warmup(\n",
    "            model=model1,\n",
    "            optimizer=optimizer1,\n",
    "            loss_func=CEloss,\n",
    "            conf_penalty=conf_penalty,\n",
    "            dataloader=warmup_loader\n",
    "        )\n",
    "        warmup_loss2, warmup_acc2, warmup_auc2 = warmup(\n",
    "            model=model2,\n",
    "            optimizer=optimizer2,\n",
    "            loss_func=CEloss,\n",
    "            conf_penalty=conf_penalty,\n",
    "            dataloader=warmup_loader\n",
    "        )\n",
    "\n",
    "        print(\n",
    "            f\"Warm-Up Model1: [Epoch {epoch:2d}, Loss: {warmup_loss1:8.6f}, Acc: {warmup_acc1:.4f}, AUC: {warmup_auc1:.4f}]\"\n",
    "        )\n",
    "        print(\n",
    "            f\"Warm-Up Model2: [Epoch {epoch:2d}, Loss: {warmup_loss2:8.6f}, Acc: {warmup_acc2:.4f}, AUC: {warmup_auc2:.4f}]\"\n",
    "        )\n",
    "        \n",
    "        # evaluate on dev set\n",
    "        val_acc, val_auc, val_loss = evaluate(\n",
    "            model1=model1,\n",
    "            model2=model2,\n",
    "            loss_func=CE,\n",
    "            dataloader=eval_loader\n",
    "        )\n",
    "        print(\n",
    "            f\"Evaluation Set: [Epoch {epoch:2d}, Loss: {val_loss:.6f}, Acc: {val_acc:.4f}, AUC: {val_auc:.4f}]\"\n",
    "        )\n",
    "\n",
    "    else:\n",
    "        prob1, train_loss1, raw_losses1, norm_losses1 = process_gmm(model1, train_gmm_loader, CE)\n",
    "        prob2, train_loss2, raw_losses2, norm_losses2 = process_gmm(model2, train_gmm_loader, CE)\n",
    "\n",
    "        pred1 = prob1 > P_THRESHOLD\n",
    "        pred2 = prob2 > P_THRESHOLD\n",
    "\n",
    "        \n",
    "        print(f'pred1 clean: {pred1.sum()}, pred1 noisy: {(~pred1).sum()}, total: {len(pred1)}')\n",
    "        print(f'pred2 clean: {pred2.sum()}, pred2 noisy: {(~pred2).sum()}, total: {len(pred2)}')\n",
    "        \n",
    "        # train both models\n",
    "        labeled_trainloader, unlabeled_trainloader = loader.load(\n",
    "            terminus=\"n\", mode=\"train\", pred=pred2, prob=prob2\n",
    "        )\n",
    "        \n",
    "        print(f'length of clean dataset based on pred2: {len(labeled_trainloader.dataset)}')\n",
    "        print(f'length of noisy dataset based on pred2: {len(unlabeled_trainloader.dataset)}')\n",
    "        \n",
    "        divmix_loss1 = train(\n",
    "            epoch=epoch,\n",
    "            model1=model1,\n",
    "            model2=model2,\n",
    "            optimizer=optimizer1,\n",
    "            loss_func=criterion,\n",
    "            num_warm_up_epochs=NUM_WARM_UP_EPOCHS,\n",
    "            num_classes=NUM_CLASSES,\n",
    "            lambda_u=LAMBDA_U,\n",
    "            temp=TEMPERATURE,\n",
    "            beta_dist=beta_dist,\n",
    "            batch_size=BATCH_SIZE,\n",
    "            labeled_loader=labeled_trainloader,\n",
    "            unlabeled_loader=unlabeled_trainloader,\n",
    "            rampup_len=RAMPUP_LEN,\n",
    "            named_model=\"model1\"\n",
    "        )\n",
    "\n",
    "        labeled_trainloader, unlabeled_trainloader = loader.load(\n",
    "            terminus=\"n\", mode=\"train\", pred=pred1, prob=prob1\n",
    "        )\n",
    "        \n",
    "        print(f'length of clean dataset based on pred1: {len(labeled_trainloader.dataset)}')\n",
    "        print(f'length of noisy dataset based on pred1: {len(unlabeled_trainloader.dataset)}')\n",
    "        \n",
    "        \n",
    "        divmix_loss2 = train(\n",
    "            epoch=epoch,\n",
    "            model1=model2,\n",
    "            model2=model1,\n",
    "            optimizer=optimizer2,\n",
    "            loss_func=criterion,\n",
    "            num_warm_up_epochs=NUM_WARM_UP_EPOCHS,\n",
    "            num_classes=NUM_CLASSES,\n",
    "            lambda_u=LAMBDA_U,\n",
    "            temp=TEMPERATURE,\n",
    "            beta_dist=beta_dist,\n",
    "            batch_size=BATCH_SIZE,\n",
    "            labeled_loader=labeled_trainloader,\n",
    "            unlabeled_loader=unlabeled_trainloader,\n",
    "            rampup_len=RAMPUP_LEN,\n",
    "            named_model=\"model2\"\n",
    "        )\n",
    "\n",
    "        # evaluate on dev set\n",
    "        val_acc, val_auc, val_loss = evaluate(\n",
    "            model1=model1,\n",
    "            model2=model2,\n",
    "            loss_func=CE,\n",
    "            dataloader=eval_loader\n",
    "        )\n",
    "\n",
    "        # if val_auc > highest_val_auc:\n",
    "        #     highest_val_auc = val_auc\n",
    "        #     path1 = f\"../params/n_term/BiLSTM/auc{val_auc:.4f}_epoch{epoch}_model1.pt\"\n",
    "        #     path2 = f\"../params/n_term/BiLSTM/auc{val_auc:.4f}_epoch{epoch}_model2.pt\"\n",
    "        #     torch.save(model1.state_dict(), path1)\n",
    "        #     torch.save(model2.state_dict(), path2)\n",
    "\n",
    "        print(\n",
    "            f\"Training Set: [Epoch {epoch:2d}, Loss1: {train_loss1:.6f}, Loss2: {train_loss2:.6f}]\"\n",
    "        )\n",
    "        print(\n",
    "            f\"DivideMix Training: [Epoch {epoch:2d}, Loss1: {divmix_loss1:.6f}, Loss2: {divmix_loss2:.6f}]\"\n",
    "        )\n",
    "        print(\n",
    "            f\"Evaluation Set: [Epoch {epoch:2d}, Loss: {val_loss:.6f}, Acc: {val_acc:.4f}, AUC: {val_auc:.4f}]\"\n",
    "        )\n",
    "\n",
    "    if epoch == 2: # first epoch after warmup\n",
    "        epoch1_raw_losses1, epoch1_norm_losses1 = raw_losses1, norm_losses1\n",
    "        epoch1_raw_losses2, epoch1_norm_losses2 = raw_losses2, norm_losses2\n",
    "        epoch1_prob1, epoch1_prob2 = prob1, prob2\n",
    "        epoch1_pred1, epoch1_pred2 = pred1, pred2\n",
    "    elif epoch == 5:\n",
    "        epoch5_raw_losses1, epoch5_norm_losses1 = raw_losses1, norm_losses1\n",
    "        epoch5_raw_losses2, epoch5_norm_losses2 = raw_losses2, norm_losses2\n",
    "        epoch5_prob1, epoch5_prob2 = prob1, prob2\n",
    "        epoch5_pred1, epoch5_pred2 = pred1, pred2\n",
    "    elif epoch == 10:\n",
    "        epoch10_raw_losses1, epoch10_norm_losses1 = raw_losses1, norm_losses1\n",
    "        epoch10_raw_losses2, epoch10_norm_losses2 = raw_losses2, norm_losses2\n",
    "        epoch10_prob1, epoch10_prob2 = prob1, prob2\n",
    "        epoch10_pred1, epoch10_pred2 = pred1, pred2\n",
    "\n",
    "\n",
    "print(\"Finished Training.\")\n",
    "train_time = (time() - start) / 60\n",
    "print(f\"Training took {train_time} minute.\")"
   ]
  },
  {
   "cell_type": "code",
   "execution_count": 8,
   "id": "38aeae93-e7df-4821-b33a-af4cb8545763",
   "metadata": {},
   "outputs": [
    {
     "data": {
      "image/png": "[encoded data removed]",
      "text/plain": [
       "<Figure size 432x288 with 1 Axes>"
      ]
     },
     "metadata": {
      "needs_background": "light"
     },
     "output_type": "display_data"
    }
   ],
   "source": [
    "plt.hist(epoch1_prob1)\n",
    "plt.show()"
   ]
  },
  {
   "cell_type": "code",
   "execution_count": 9,
   "id": "1fab3d19-9042-4406-a5f7-45f262112ea1",
   "metadata": {},
   "outputs": [
    {
     "data": {
      "image/png": "[encoded data removed]",
      "text/plain": [
       "<Figure size 432x288 with 1 Axes>"
      ]
     },
     "metadata": {
      "needs_background": "light"
     },
     "output_type": "display_data"
    }
   ],
   "source": [
    "plt.hist(epoch1_prob2)\n",
    "plt.show()"
   ]
  },
  {
   "cell_type": "code",
   "execution_count": 10,
   "id": "1dd62d7b-e269-4b1b-a4ba-c9ff3486c7a6",
   "metadata": {},
   "outputs": [
    {
     "data": {
      "image/png": "[encoded data removed]",
      "text/plain": [
       "<Figure size 432x288 with 1 Axes>"
      ]
     },
     "metadata": {
      "needs_background": "light"
     },
     "output_type": "display_data"
    }
   ],
   "source": [
    "plt.hist(epoch1_norm_losses1[epoch1_pred1], label='clean')\n",
    "plt.hist(epoch1_norm_losses1[~epoch1_pred1], label='noisy')\n",
    "plt.legend()\n",
    "plt.show()"
   ]
  },
  {
   "cell_type": "code",
   "execution_count": 11,
   "id": "6200f602-b996-4c5b-a840-0d34b801781e",
   "metadata": {},
   "outputs": [
    {
     "data": {
      "image/png": "[encoded data removed]",
      "text/plain": [
       "<Figure size 432x288 with 1 Axes>"
      ]
     },
     "metadata": {
      "needs_background": "light"
     },
     "output_type": "display_data"
    }
   ],
   "source": [
    "plt.hist(epoch1_norm_losses2[epoch1_pred2], label='clean')\n",
    "plt.hist(epoch1_norm_losses2[~epoch1_pred2], label='noisy')\n",
    "plt.legend()\n",
    "plt.show()"
   ]
  },
  {
   "cell_type": "code",
   "execution_count": 12,
   "id": "314e8229-58ba-4fb4-b511-e53a889bce5e",
   "metadata": {},
   "outputs": [
    {
     "data": {
      "image/png": "[encoded data removed]",
      "text/plain": [
       "<Figure size 432x288 with 1 Axes>"
      ]
     },
     "metadata": {
      "needs_background": "light"
     },
     "output_type": "display_data"
    }
   ],
   "source": [
    "plt.hist(epoch5_prob1)\n",
    "plt.show()"
   ]
  },
  {
   "cell_type": "code",
   "execution_count": 13,
   "id": "32b1db41-50cf-4ef1-9c2b-903c3c9f209c",
   "metadata": {},
   "outputs": [
    {
     "data": {
      "image/png": "[encoded data removed]",
      "text/plain": [
       "<Figure size 432x288 with 1 Axes>"
      ]
     },
     "metadata": {
      "needs_background": "light"
     },
     "output_type": "display_data"
    }
   ],
   "source": [
    "plt.hist(epoch5_prob2)\n",
    "plt.show()"
   ]
  },
  {
   "cell_type": "code",
   "execution_count": 14,
   "id": "cd2458b7-c022-48e0-9cc8-54bdbdbca933",
   "metadata": {},
   "outputs": [
    {
     "data": {
      "image/png": "[encoded data removed]",
      "text/plain": [
       "<Figure size 432x288 with 1 Axes>"
      ]
     },
     "metadata": {
      "needs_background": "light"
     },
     "output_type": "display_data"
    }
   ],
   "source": [
    "plt.hist(epoch5_norm_losses1[epoch5_pred1], label='clean')\n",
    "plt.hist(epoch5_norm_losses1[~epoch5_pred1], label='noisy')\n",
    "plt.legend()\n",
    "plt.show()"
   ]
  },
  {
   "cell_type": "code",
   "execution_count": 15,
   "id": "bae6b506-fcd5-4328-adb9-6a00ccc28035",
   "metadata": {},
   "outputs": [
    {
     "data": {
      "image/png": "[encoded data removed]",
      "text/plain": [
       "<Figure size 432x288 with 1 Axes>"
      ]
     },
     "metadata": {
      "needs_background": "light"
     },
     "output_type": "display_data"
    }
   ],
   "source": [
    "plt.hist(epoch5_norm_losses2[epoch5_pred2], label='clean')\n",
    "plt.hist(epoch5_norm_losses2[~epoch5_pred2], label='noisy')\n",
    "plt.legend()\n",
    "plt.show()"
   ]
  },
  {
   "cell_type": "code",
   "execution_count": 16,
   "id": "7bd07743-1fff-4fcc-a959-a363286e6430",
   "metadata": {},
   "outputs": [
    {
     "data": {
      "image/png": "[encoded data removed]",
      "text/plain": [
       "<Figure size 432x288 with 1 Axes>"
      ]
     },
     "metadata": {
      "needs_background": "light"
     },
     "output_type": "display_data"
    }
   ],
   "source": [
    "plt.hist(epoch10_prob1)\n",
    "plt.show()"
   ]
  },
  {
   "cell_type": "code",
   "execution_count": 17,
   "id": "28b9f2ca-3442-497f-99ec-505188888e3b",
   "metadata": {},
   "outputs": [
    {
     "data": {
      "image/png": "[encoded data removed]",
      "text/plain": [
       "<Figure size 432x288 with 1 Axes>"
      ]
     },
     "metadata": {
      "needs_background": "light"
     },
     "output_type": "display_data"
    }
   ],
   "source": [
    "plt.hist(epoch10_prob2)\n",
    "plt.show()"
   ]
  },
  {
   "cell_type": "code",
   "execution_count": 18,
   "id": "4a8c6d68-df68-46fc-811b-58e58c4c1f8a",
   "metadata": {},
   "outputs": [
    {
     "data": {
      "image/png": "[encoded data removed]",
      "text/plain": [
       "<Figure size 432x288 with 1 Axes>"
      ]
     },
     "metadata": {
      "needs_background": "light"
     },
     "output_type": "display_data"
    }
   ],
   "source": [
    "plt.hist(epoch10_norm_losses1[epoch10_pred1], label='clean')\n",
    "plt.hist(epoch10_norm_losses1[~epoch10_pred1], label='noisy')\n",
    "plt.legend()\n",
    "plt.show()"
   ]
  },
  {
   "cell_type": "code",
   "execution_count": 19,
   "id": "e7909b1c-ea98-48a8-bf52-6df46c10d427",
   "metadata": {},
   "outputs": [
    {
     "data": {
      "image/png": "[encoded data removed]",
      "text/plain": [
       "<Figure size 432x288 with 1 Axes>"
      ]
     },
     "metadata": {
      "needs_background": "light"
     },
     "output_type": "display_data"
    }
   ],
   "source": [
    "plt.hist(epoch10_norm_losses2[epoch10_pred2], label='clean')\n",
    "plt.hist(epoch10_norm_losses2[~epoch10_pred2], label='noisy')\n",
    "plt.legend()\n",
    "plt.show()"
   ]
  },
  {
   "cell_type": "code",
   "execution_count": null,
   "id": "90598493-8cb0-4d31-95c9-3eb9c3dca698",
   "metadata": {},
   "outputs": [],
   "source": []
  },
  {
   "cell_type": "code",
   "execution_count": null,
   "id": "52679a07-0c2b-458c-9983-6453821792b0",
   "metadata": {},
   "outputs": [],
   "source": []
  },
  {
   "cell_type": "code",
   "execution_count": null,
   "id": "0ff49a93-591a-4169-9bb8-45d7a350097f",
   "metadata": {},
   "outputs": [],
   "source": []
  }
 ],
 "metadata": {
  "kernelspec": {
   "display_name": "Python 3 (ipykernel)",
   "language": "python",
   "name": "python3"
  },
  "language_info": {
   "codemirror_mode": {
    "name": "ipython",
    "version": 3
   },
   "file_extension": ".py",
   "mimetype": "text/x-python",
   "name": "python",
   "nbconvert_exporter": "python",
   "pygments_lexer": "ipython3",
   "version": "3.10.4"
  }
 },
 "nbformat": 4,
 "nbformat_minor": 5
}
