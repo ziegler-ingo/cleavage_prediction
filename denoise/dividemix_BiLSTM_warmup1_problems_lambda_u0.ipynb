{
 "cells": [
  {
   "cell_type": "code",
   "execution_count": 1,
   "id": "8b376cff-a0bb-42ab-8e39-4a964c417dc7",
   "metadata": {},
   "outputs": [],
   "source": [
    "import sys\n",
    "sys.path.append('../denoise/')\n",
    "\n",
    "import os\n",
    "import math\n",
    "import pickle\n",
    "import random\n",
    "import numpy as np\n",
    "from time import time\n",
    "\n",
    "import torch\n",
    "import torch.nn as nn\n",
    "import torch.optim as optim\n",
    "from torch.nn.utils.parametrizations import spectral_norm\n",
    "\n",
    "import matplotlib.pyplot as plt\n",
    "%matplotlib inline\n",
    "\n",
    "from divide_mix.data_handling import CleavageLoader\n",
    "from divide_mix.train_utils import (\n",
    "    NegEntropy,\n",
    "    SemiLoss,\n",
    "    warmup,\n",
    "    train,\n",
    "    evaluate,\n",
    "    process_gmm\n",
    ")"
   ]
  },
  {
   "cell_type": "code",
   "execution_count": 2,
   "id": "db1fd9d5-ed2f-49d4-99ae-bccc7ddcee25",
   "metadata": {},
   "outputs": [],
   "source": [
    "def seed_everything(seed: int):\n",
    "    random.seed(seed)\n",
    "    os.environ['PYTHONHASHSEED'] = str(seed)\n",
    "    np.random.seed(seed)\n",
    "    torch.manual_seed(seed)\n",
    "    torch.cuda.manual_seed(seed)\n",
    "    torch.backends.cudnn.deterministic = True\n",
    "    torch.backends.cudnn.benchmark = True\n",
    "    \n",
    "seed_everything(1234)"
   ]
  },
  {
   "cell_type": "code",
   "execution_count": 3,
   "id": "caa607d1-bf4e-459d-b577-b3d10235a68a",
   "metadata": {},
   "outputs": [],
   "source": [
    "# number of trainable parameters in model\n",
    "def get_total_model_params(model):\n",
    "    return sum(p.numel() for p in model.parameters() if p.requires_grad)\n",
    "\n",
    "\n",
    "def gelu(x):\n",
    "    \"\"\"\n",
    "    Facebook Research implementation of the gelu activation function.\n",
    "    \n",
    "    For information: OpenAI GPT's gelu is slightly different\n",
    "    (and gives slightly different results):\n",
    "    0.5 * x * (1 + torch.tanh(math.sqrt(2 / math.pi) * (x + 0.044715 * torch.pow(x, 3))))\n",
    "    \"\"\"\n",
    "    return x * 0.5 * (1.0 + torch.erf(x / math.sqrt(2.0)))"
   ]
  },
  {
   "cell_type": "code",
   "execution_count": 4,
   "id": "228ec4a9-8484-45d5-8af5-b8459f876d6d",
   "metadata": {},
   "outputs": [],
   "source": [
    "class BiLSTM(nn.Module):\n",
    "    def __init__(self, vocab_size, embedding_dim, rnn_size1, rnn_size2, hidden_size, dropout1, dropout2):\n",
    "        super().__init__()\n",
    "        \n",
    "        self.embedding = nn.Embedding(\n",
    "            num_embeddings=vocab_size,\n",
    "            embedding_dim=embedding_dim,\n",
    "        )\n",
    "        \n",
    "        self.dropout1=nn.Dropout(dropout1)\n",
    "        self.dropout2=nn.Dropout(dropout2)\n",
    "        \n",
    "        self.lstm1 = nn.LSTM(\n",
    "            input_size=embedding_dim,\n",
    "            hidden_size=rnn_size1,\n",
    "            bidirectional=True,\n",
    "            batch_first=True,\n",
    "        )\n",
    "\n",
    "        self.lstm2 = nn.LSTM(\n",
    "            input_size=2 * rnn_size1,\n",
    "            hidden_size=rnn_size2,\n",
    "            bidirectional=True,\n",
    "            batch_first=True,\n",
    "        )\n",
    "        \n",
    "        self.fc1 = spectral_norm(nn.Linear(rnn_size2 * 2, hidden_size))\n",
    "        self.fc2 = nn.Linear(hidden_size, 2)\n",
    "        \n",
    "    \n",
    "    def no_embed_fw(self, embedded):\n",
    "        # input shape: (batch_size, seq_len, embedding_dim)\n",
    "        out, _ = self.lstm1(embedded)\n",
    "        \n",
    "        # input shape: (batch_size, seq_len, 2*rnn_size1)\n",
    "        out, _ = self.lstm2(out)\n",
    "        \n",
    "        # input shape: (batch_size, seq_len, 2*hidden_size)\n",
    "        pooled, _ = torch.max(out, dim=1)\n",
    "        \n",
    "        # input shape: (batch_size, 2*hidden_size)\n",
    "        out = self.dropout1(gelu(self.fc1(pooled)))\n",
    "        \n",
    "        # input shape: (batch_size, hidden_size)\n",
    "        # output shape: (batch_size, 2)\n",
    "        return self.fc2(out)\n",
    "    \n",
    "    def forward(self, seq, seq2=None, lam=None, interpolate=False):\n",
    "        if interpolate:\n",
    "            # input shape: (batch_size, seq_len=10)\n",
    "            embedded1 = self.embedding(seq)\n",
    "            embedded2 = self.embedding(seq2)\n",
    "            embedded_mixed = lam * embedded1 + (1 - lam) * embedded2\n",
    "            return self.no_embed_fw(self.dropout2(embedded_mixed))\n",
    "        else:\n",
    "            # input shape: (batch_size, seq_len=10)\n",
    "            embedded = self.dropout1(self.embedding(seq))\n",
    "            return self.no_embed_fw(embedded)"
   ]
  },
  {
   "cell_type": "code",
   "execution_count": 5,
   "id": "1574351f-3461-4821-baee-c2eb4da25a96",
   "metadata": {},
   "outputs": [],
   "source": [
    "BATCH_SIZE = 64\n",
    "LR = 5e-5\n",
    "ALPHA = 0.5\n",
    "LAMBDA_U = 0\n",
    "P_THRESHOLD = 0.5\n",
    "TEMPERATURE = 0.5\n",
    "NUM_EPOCHS = 10\n",
    "NUM_WARM_UP_EPOCHS = 1\n",
    "RAMPUP_LEN = 5\n",
    "NUM_CLASSES = 2\n",
    "\n",
    "vocab = torch.load('../data/vocab.pt')\n",
    "device = \"cuda:0\" if torch.cuda.is_available() else \"cpu\"\n",
    "beta_dist = torch.distributions.beta.Beta(ALPHA, ALPHA)\n",
    "loader = CleavageLoader(batch_size=BATCH_SIZE, num_workers=10)"
   ]
  },
  {
   "cell_type": "code",
   "execution_count": 6,
   "id": "c8270e3c-2991-4df1-8371-c5ef80139f85",
   "metadata": {},
   "outputs": [],
   "source": [
    "model1 = BiLSTM(\n",
    "    vocab_size=len(vocab),\n",
    "    embedding_dim=200,\n",
    "    rnn_size1=256,\n",
    "    rnn_size2=512,\n",
    "    hidden_size=128,\n",
    "    dropout1=0.5,\n",
    "    dropout2=0.\n",
    ").to(device)\n",
    "\n",
    "model2 = BiLSTM(\n",
    "    vocab_size=len(vocab),\n",
    "    embedding_dim=20,\n",
    "    rnn_size1=256,\n",
    "    rnn_size2=512,\n",
    "    hidden_size=128,\n",
    "    dropout1=0.5,\n",
    "    dropout2=0.\n",
    ").to(device)\n",
    "\n",
    "optimizer1 = optim.Adam(model1.parameters(), lr=LR)\n",
    "optimizer2 = optim.Adam(model2.parameters(), lr=LR)\n",
    "\n",
    "criterion = SemiLoss()\n",
    "conf_penalty = NegEntropy()\n",
    "CEloss = nn.CrossEntropyLoss()\n",
    "CE = nn.CrossEntropyLoss(reduction=\"none\")"
   ]
  },
  {
   "cell_type": "code",
   "execution_count": 7,
   "id": "59aeee47-a9fa-4c77-9058-f619df3886a8",
   "metadata": {
    "tags": []
   },
   "outputs": [
    {
     "name": "stdout",
     "output_type": "stream",
     "text": [
      "warmup: 100%|██████████████████████████████████████████████████| 2236/2236 [00:19<00:00, 114.13batches/s]\n",
      "warmup: 100%|██████████████████████████████████████████████████| 2236/2236 [00:18<00:00, 119.01batches/s]\n",
      "Warm-Up Model1: [Epoch  1, Loss: -0.000036, Acc: 0.6033, AUC: 0.6193]\n",
      "Warm-Up Model2: [Epoch  1, Loss: -0.000026, Acc: 0.5907, AUC: 0.5887]\n",
      "evaluate: 100%|███████████████████████████████████████████████████| 140/140 [00:01<00:00, 92.95batches/s]\n",
      "Evaluation Set: [Epoch  1, Loss: 0.589756, Acc: 0.6788, AUC: 0.7463]\n",
      "GMM processing: 100%|██████████████████████████████████████████| 1118/1118 [00:05<00:00, 206.83batches/s]\n",
      "GMM processing: 100%|██████████████████████████████████████████| 1118/1118 [00:05<00:00, 215.05batches/s]\n",
      "pred1 clean: 680629, pred1 noisy: 463837, total: 1144466\n",
      "pred2 clean: 373499, pred2 noisy: 770967, total: 1144466\n",
      "length of clean dataset based on pred2: 373499\n",
      "length of noisy dataset based on pred2: 770967\n",
      "train model1: 100%|█████████████████████████████████████████████| 5836/5836 [01:03<00:00, 92.52batches/s]\n",
      "length of clean dataset based on pred1: 680629\n",
      "length of noisy dataset based on pred1: 463837\n",
      "train model2: 100%|███████████████████████████████████████████| 10635/10635 [01:52<00:00, 94.42batches/s]\n",
      "evaluate: 100%|███████████████████████████████████████████████████| 140/140 [00:01<00:00, 91.32batches/s]\n",
      "Training Set: [Epoch  2, Loss1: 0.610691, Loss2: 0.638930]\n",
      "DivideMix Training: [Epoch  2, Loss1: 0.001004, Loss2: 0.001404]\n",
      "Evaluation Set: [Epoch  2, Loss: 2.096572, Acc: 0.6694, AUC: 0.7356]\n",
      "GMM processing: 100%|██████████████████████████████████████████| 1118/1118 [00:05<00:00, 203.10batches/s]\n",
      "GMM processing: 100%|██████████████████████████████████████████| 1118/1118 [00:05<00:00, 212.52batches/s]\n",
      "pred1 clean: 753225, pred1 noisy: 391241, total: 1144466\n",
      "pred2 clean: 767708, pred2 noisy: 376758, total: 1144466\n",
      "length of clean dataset based on pred2: 767708\n",
      "length of noisy dataset based on pred2: 376758\n",
      "train model1: 100%|███████████████████████████████████████████| 11996/11996 [02:09<00:00, 92.90batches/s]\n",
      "length of clean dataset based on pred1: 753225\n",
      "length of noisy dataset based on pred1: 391241\n",
      "train model2: 100%|███████████████████████████████████████████| 11770/11770 [02:05<00:00, 93.43batches/s]\n",
      "evaluate: 100%|███████████████████████████████████████████████████| 140/140 [00:01<00:00, 91.97batches/s]\n",
      "Training Set: [Epoch  3, Loss1: 1.508518, Loss2: 0.935191]\n",
      "DivideMix Training: [Epoch  3, Loss1: 0.001312, Loss2: 0.001355]\n",
      "Evaluation Set: [Epoch  3, Loss: 2.353158, Acc: 0.6810, AUC: 0.7348]\n",
      "GMM processing: 100%|██████████████████████████████████████████| 1118/1118 [00:05<00:00, 203.12batches/s]\n",
      "GMM processing: 100%|██████████████████████████████████████████| 1118/1118 [00:05<00:00, 211.82batches/s]\n",
      "pred1 clean: 780022, pred1 noisy: 364444, total: 1144466\n",
      "pred2 clean: 759252, pred2 noisy: 385214, total: 1144466\n",
      "length of clean dataset based on pred2: 759252\n",
      "length of noisy dataset based on pred2: 385214\n",
      "train model1: 100%|███████████████████████████████████████████| 11864/11864 [02:07<00:00, 92.69batches/s]\n",
      "length of clean dataset based on pred1: 780022\n",
      "length of noisy dataset based on pred1: 364444\n",
      "train model2: 100%|███████████████████████████████████████████| 12188/12188 [02:10<00:00, 93.41batches/s]\n",
      "evaluate: 100%|███████████████████████████████████████████████████| 140/140 [00:01<00:00, 90.52batches/s]\n",
      "Training Set: [Epoch  4, Loss1: 1.422166, Loss2: 1.269778]\n",
      "DivideMix Training: [Epoch  4, Loss1: 0.001292, Loss2: 0.001337]\n",
      "Evaluation Set: [Epoch  4, Loss: 2.579417, Acc: 0.6760, AUC: 0.7273]\n",
      "GMM processing: 100%|██████████████████████████████████████████| 1118/1118 [00:05<00:00, 202.88batches/s]\n",
      "GMM processing: 100%|██████████████████████████████████████████| 1118/1118 [00:05<00:00, 211.93batches/s]\n",
      "pred1 clean: 766227, pred1 noisy: 378239, total: 1144466\n",
      "pred2 clean: 781964, pred2 noisy: 362502, total: 1144466\n",
      "length of clean dataset based on pred2: 781964\n",
      "length of noisy dataset based on pred2: 362502\n",
      "train model1: 100%|███████████████████████████████████████████| 12219/12219 [02:13<00:00, 91.77batches/s]\n",
      "length of clean dataset based on pred1: 766227\n",
      "length of noisy dataset based on pred1: 378239\n",
      "train model2: 100%|███████████████████████████████████████████| 11973/11973 [02:08<00:00, 93.32batches/s]\n",
      "evaluate: 100%|███████████████████████████████████████████████████| 140/140 [00:01<00:00, 90.91batches/s]\n",
      "Training Set: [Epoch  5, Loss1: 1.572532, Loss2: 1.345165]\n",
      "DivideMix Training: [Epoch  5, Loss1: 0.001306, Loss2: 0.001310]\n",
      "Evaluation Set: [Epoch  5, Loss: 2.478478, Acc: 0.6821, AUC: 0.7328]\n",
      "GMM processing: 100%|██████████████████████████████████████████| 1118/1118 [00:05<00:00, 199.14batches/s]\n",
      "GMM processing: 100%|██████████████████████████████████████████| 1118/1118 [00:05<00:00, 205.58batches/s]\n",
      "pred1 clean: 784007, pred1 noisy: 360459, total: 1144466\n",
      "pred2 clean: 769012, pred2 noisy: 375454, total: 1144466\n",
      "length of clean dataset based on pred2: 769012\n",
      "length of noisy dataset based on pred2: 375454\n",
      "train model1: 100%|███████████████████████████████████████████| 12016/12016 [02:10<00:00, 91.98batches/s]\n",
      "length of clean dataset based on pred1: 784007\n",
      "length of noisy dataset based on pred1: 360459\n",
      "train model2: 100%|███████████████████████████████████████████| 12251/12251 [02:11<00:00, 93.51batches/s]\n",
      "evaluate: 100%|███████████████████████████████████████████████████| 140/140 [00:01<00:00, 90.56batches/s]\n",
      "Training Set: [Epoch  6, Loss1: 1.400605, Loss2: 1.408953]\n",
      "DivideMix Training: [Epoch  6, Loss1: 0.001277, Loss2: 0.001313]\n",
      "Evaluation Set: [Epoch  6, Loss: 2.759498, Acc: 0.6798, AUC: 0.7351]\n",
      "GMM processing: 100%|██████████████████████████████████████████| 1118/1118 [00:05<00:00, 202.67batches/s]\n",
      "GMM processing: 100%|██████████████████████████████████████████| 1118/1118 [00:05<00:00, 210.99batches/s]\n",
      "pred1 clean: 772387, pred1 noisy: 372079, total: 1144466\n",
      "pred2 clean: 786001, pred2 noisy: 358465, total: 1144466\n",
      "length of clean dataset based on pred2: 786001\n",
      "length of noisy dataset based on pred2: 358465\n",
      "train model1: 100%|███████████████████████████████████████████| 12282/12282 [02:12<00:00, 92.37batches/s]\n",
      "length of clean dataset based on pred1: 772387\n",
      "length of noisy dataset based on pred1: 372079\n",
      "train model2: 100%|███████████████████████████████████████████| 12069/12069 [02:07<00:00, 94.70batches/s]\n",
      "evaluate: 100%|███████████████████████████████████████████████████| 140/140 [00:01<00:00, 90.90batches/s]\n",
      "Training Set: [Epoch  7, Loss1: 1.683421, Loss2: 1.426262]\n",
      "DivideMix Training: [Epoch  7, Loss1: 0.001282, Loss2: 0.001298]\n",
      "Evaluation Set: [Epoch  7, Loss: 2.637436, Acc: 0.6829, AUC: 0.7384]\n",
      "GMM processing: 100%|██████████████████████████████████████████| 1118/1118 [00:05<00:00, 203.57batches/s]\n",
      "GMM processing: 100%|██████████████████████████████████████████| 1118/1118 [00:05<00:00, 212.99batches/s]\n",
      "pred1 clean: 786129, pred1 noisy: 358337, total: 1144466\n",
      "pred2 clean: 774287, pred2 noisy: 370179, total: 1144466\n",
      "length of clean dataset based on pred2: 774287\n",
      "length of noisy dataset based on pred2: 370179\n",
      "train model1: 100%|███████████████████████████████████████████| 12099/12099 [02:09<00:00, 93.17batches/s]\n",
      "length of clean dataset based on pred1: 786129\n",
      "length of noisy dataset based on pred1: 358337\n",
      "train model2: 100%|███████████████████████████████████████████| 12284/12284 [02:10<00:00, 93.84batches/s]\n",
      "evaluate: 100%|███████████████████████████████████████████████████| 140/140 [00:01<00:00, 90.25batches/s]\n",
      "Training Set: [Epoch  8, Loss1: 1.432293, Loss2: 1.507754]\n",
      "DivideMix Training: [Epoch  8, Loss1: 0.001263, Loss2: 0.001300]\n",
      "Evaluation Set: [Epoch  8, Loss: 2.862117, Acc: 0.6814, AUC: 0.7373]\n",
      "GMM processing: 100%|██████████████████████████████████████████| 1118/1118 [00:05<00:00, 202.54batches/s]\n",
      "GMM processing: 100%|██████████████████████████████████████████| 1118/1118 [00:05<00:00, 212.46batches/s]\n",
      "pred1 clean: 775951, pred1 noisy: 368515, total: 1144466\n",
      "pred2 clean: 788311, pred2 noisy: 356155, total: 1144466\n",
      "length of clean dataset based on pred2: 788311\n",
      "length of noisy dataset based on pred2: 356155\n",
      "train model1: 100%|███████████████████████████████████████████| 12318/12318 [02:13<00:00, 92.52batches/s]\n",
      "length of clean dataset based on pred1: 775951\n",
      "length of noisy dataset based on pred1: 368515\n",
      "train model2: 100%|███████████████████████████████████████████| 12125/12125 [02:09<00:00, 93.61batches/s]\n",
      "evaluate: 100%|███████████████████████████████████████████████████| 140/140 [00:01<00:00, 90.41batches/s]\n",
      "Training Set: [Epoch  9, Loss1: 1.664068, Loss2: 1.495323]\n",
      "DivideMix Training: [Epoch  9, Loss1: 0.001269, Loss2: 0.001293]\n",
      "Evaluation Set: [Epoch  9, Loss: 2.856628, Acc: 0.6841, AUC: 0.7358]\n",
      "GMM processing: 100%|██████████████████████████████████████████| 1118/1118 [00:05<00:00, 201.51batches/s]\n",
      "GMM processing: 100%|██████████████████████████████████████████| 1118/1118 [00:05<00:00, 211.14batches/s]\n",
      "pred1 clean: 788682, pred1 noisy: 355784, total: 1144466\n",
      "pred2 clean: 777152, pred2 noisy: 367314, total: 1144466\n",
      "length of clean dataset based on pred2: 777152\n",
      "length of noisy dataset based on pred2: 367314\n",
      "train model1: 100%|███████████████████████████████████████████| 12143/12143 [02:12<00:00, 91.55batches/s]\n",
      "length of clean dataset based on pred1: 788682\n",
      "length of noisy dataset based on pred1: 355784\n",
      "train model2: 100%|███████████████████████████████████████████| 12324/12324 [02:11<00:00, 93.95batches/s]\n",
      "evaluate: 100%|███████████████████████████████████████████████████| 140/140 [00:01<00:00, 89.50batches/s]\n",
      "Training Set: [Epoch 10, Loss1: 1.559569, Loss2: 1.578865]\n",
      "DivideMix Training: [Epoch 10, Loss1: 0.001243, Loss2: 0.001302]\n",
      "Evaluation Set: [Epoch 10, Loss: 2.768997, Acc: 0.6837, AUC: 0.7344]\n",
      "Finished Training.\n",
      "Training took 41.525077704588576 minute.\n"
     ]
    }
   ],
   "source": [
    "warmup_loader = loader.load(terminus=\"n\", mode=\"warmup\")\n",
    "train_gmm_loader = loader.load(terminus=\"n\", mode=\"divide_by_GMM\")\n",
    "eval_loader = loader.load(terminus=\"n\", mode=\"evaluate\")\n",
    "\n",
    "start = time()\n",
    "highest_val_auc = 0\n",
    "for epoch in range(1, NUM_EPOCHS + 1):\n",
    "    if epoch < NUM_WARM_UP_EPOCHS + 1:\n",
    "        # run warm up model 1 and 2 while adding penalty for confident predictions\n",
    "        warmup_loss1, warmup_acc1, warmup_auc1 = warmup(\n",
    "            model=model1,\n",
    "            optimizer=optimizer1,\n",
    "            loss_func=CEloss,\n",
    "            conf_penalty=conf_penalty,\n",
    "            dataloader=warmup_loader\n",
    "        )\n",
    "        warmup_loss2, warmup_acc2, warmup_auc2 = warmup(\n",
    "            model=model2,\n",
    "            optimizer=optimizer2,\n",
    "            loss_func=CEloss,\n",
    "            conf_penalty=conf_penalty,\n",
    "            dataloader=warmup_loader\n",
    "        )\n",
    "\n",
    "        print(\n",
    "            f\"Warm-Up Model1: [Epoch {epoch:2d}, Loss: {warmup_loss1:8.6f}, Acc: {warmup_acc1:.4f}, AUC: {warmup_auc1:.4f}]\"\n",
    "        )\n",
    "        print(\n",
    "            f\"Warm-Up Model2: [Epoch {epoch:2d}, Loss: {warmup_loss2:8.6f}, Acc: {warmup_acc2:.4f}, AUC: {warmup_auc2:.4f}]\"\n",
    "        )\n",
    "        \n",
    "        # evaluate on dev set\n",
    "        val_acc, val_auc, val_loss = evaluate(\n",
    "            model1=model1,\n",
    "            model2=model2,\n",
    "            loss_func=CE,\n",
    "            dataloader=eval_loader\n",
    "        )\n",
    "        print(\n",
    "            f\"Evaluation Set: [Epoch {epoch:2d}, Loss: {val_loss:.6f}, Acc: {val_acc:.4f}, AUC: {val_auc:.4f}]\"\n",
    "        )\n",
    "\n",
    "    else:\n",
    "        prob1, train_loss1, raw_losses1, norm_losses1 = process_gmm(model1, train_gmm_loader, CE)\n",
    "        prob2, train_loss2, raw_losses2, norm_losses2 = process_gmm(model2, train_gmm_loader, CE)\n",
    "\n",
    "        pred1 = prob1 > P_THRESHOLD\n",
    "        pred2 = prob2 > P_THRESHOLD\n",
    "\n",
    "        \n",
    "        print(f'pred1 clean: {pred1.sum()}, pred1 noisy: {(~pred1).sum()}, total: {len(pred1)}')\n",
    "        print(f'pred2 clean: {pred2.sum()}, pred2 noisy: {(~pred2).sum()}, total: {len(pred2)}')\n",
    "        \n",
    "        # train both models\n",
    "        labeled_trainloader, unlabeled_trainloader = loader.load(\n",
    "            terminus=\"n\", mode=\"train\", pred=pred2, prob=prob2\n",
    "        )\n",
    "        \n",
    "        print(f'length of clean dataset based on pred2: {len(labeled_trainloader.dataset)}')\n",
    "        print(f'length of noisy dataset based on pred2: {len(unlabeled_trainloader.dataset)}')\n",
    "        \n",
    "        divmix_loss1 = train(\n",
    "            epoch=epoch,\n",
    "            model1=model1,\n",
    "            model2=model2,\n",
    "            optimizer=optimizer1,\n",
    "            loss_func=criterion,\n",
    "            num_warm_up_epochs=NUM_WARM_UP_EPOCHS,\n",
    "            num_classes=NUM_CLASSES,\n",
    "            lambda_u=LAMBDA_U,\n",
    "            temp=TEMPERATURE,\n",
    "            beta_dist=beta_dist,\n",
    "            batch_size=BATCH_SIZE,\n",
    "            labeled_loader=labeled_trainloader,\n",
    "            unlabeled_loader=unlabeled_trainloader,\n",
    "            rampup_len=RAMPUP_LEN,\n",
    "            named_model=\"model1\"\n",
    "        )\n",
    "\n",
    "        labeled_trainloader, unlabeled_trainloader = loader.load(\n",
    "            terminus=\"n\", mode=\"train\", pred=pred1, prob=prob1\n",
    "        )\n",
    "        \n",
    "        print(f'length of clean dataset based on pred1: {len(labeled_trainloader.dataset)}')\n",
    "        print(f'length of noisy dataset based on pred1: {len(unlabeled_trainloader.dataset)}')\n",
    "        \n",
    "        \n",
    "        divmix_loss2 = train(\n",
    "            epoch=epoch,\n",
    "            model1=model2,\n",
    "            model2=model1,\n",
    "            optimizer=optimizer2,\n",
    "            loss_func=criterion,\n",
    "            num_warm_up_epochs=NUM_WARM_UP_EPOCHS,\n",
    "            num_classes=NUM_CLASSES,\n",
    "            lambda_u=LAMBDA_U,\n",
    "            temp=TEMPERATURE,\n",
    "            beta_dist=beta_dist,\n",
    "            batch_size=BATCH_SIZE,\n",
    "            labeled_loader=labeled_trainloader,\n",
    "            unlabeled_loader=unlabeled_trainloader,\n",
    "            rampup_len=RAMPUP_LEN,\n",
    "            named_model=\"model2\"\n",
    "        )\n",
    "\n",
    "        # evaluate on dev set\n",
    "        val_acc, val_auc, val_loss = evaluate(\n",
    "            model1=model1,\n",
    "            model2=model2,\n",
    "            loss_func=CE,\n",
    "            dataloader=eval_loader\n",
    "        )\n",
    "\n",
    "        # if val_auc > highest_val_auc:\n",
    "        #     highest_val_auc = val_auc\n",
    "        #     path1 = f\"../params/n_term/BiLSTM/auc{val_auc:.4f}_epoch{epoch}_model1.pt\"\n",
    "        #     path2 = f\"../params/n_term/BiLSTM/auc{val_auc:.4f}_epoch{epoch}_model2.pt\"\n",
    "        #     torch.save(model1.state_dict(), path1)\n",
    "        #     torch.save(model2.state_dict(), path2)\n",
    "\n",
    "        print(\n",
    "            f\"Training Set: [Epoch {epoch:2d}, Loss1: {train_loss1:.6f}, Loss2: {train_loss2:.6f}]\"\n",
    "        )\n",
    "        print(\n",
    "            f\"DivideMix Training: [Epoch {epoch:2d}, Loss1: {divmix_loss1:.6f}, Loss2: {divmix_loss2:.6f}]\"\n",
    "        )\n",
    "        print(\n",
    "            f\"Evaluation Set: [Epoch {epoch:2d}, Loss: {val_loss:.6f}, Acc: {val_acc:.4f}, AUC: {val_auc:.4f}]\"\n",
    "        )\n",
    "\n",
    "    if epoch == 2: # first epoch after warmup\n",
    "        epoch1_raw_losses1, epoch1_norm_losses1 = raw_losses1, norm_losses1\n",
    "        epoch1_raw_losses2, epoch1_norm_losses2 = raw_losses2, norm_losses2\n",
    "        epoch1_prob1, epoch1_prob2 = prob1, prob2\n",
    "        epoch1_pred1, epoch1_pred2 = pred1, pred2\n",
    "    elif epoch == 5:\n",
    "        epoch5_raw_losses1, epoch5_norm_losses1 = raw_losses1, norm_losses1\n",
    "        epoch5_raw_losses2, epoch5_norm_losses2 = raw_losses2, norm_losses2\n",
    "        epoch5_prob1, epoch5_prob2 = prob1, prob2\n",
    "        epoch5_pred1, epoch5_pred2 = pred1, pred2\n",
    "    elif epoch == 10:\n",
    "        epoch10_raw_losses1, epoch10_norm_losses1 = raw_losses1, norm_losses1\n",
    "        epoch10_raw_losses2, epoch10_norm_losses2 = raw_losses2, norm_losses2\n",
    "        epoch10_prob1, epoch10_prob2 = prob1, prob2\n",
    "        epoch10_pred1, epoch10_pred2 = pred1, pred2\n",
    "\n",
    "\n",
    "print(\"Finished Training.\")\n",
    "train_time = (time() - start) / 60\n",
    "print(f\"Training took {train_time} minute.\")"
   ]
  },
  {
   "cell_type": "code",
   "execution_count": 8,
   "id": "38aeae93-e7df-4821-b33a-af4cb8545763",
   "metadata": {},
   "outputs": [
    {
     "data": {
      "image/png": "[encoded data removed]",
      "text/plain": [
       "<Figure size 432x288 with 1 Axes>"
      ]
     },
     "metadata": {
      "needs_background": "light"
     },
     "output_type": "display_data"
    }
   ],
   "source": [
    "plt.hist(epoch1_prob1)\n",
    "plt.show()"
   ]
  },
  {
   "cell_type": "code",
   "execution_count": 9,
   "id": "1fab3d19-9042-4406-a5f7-45f262112ea1",
   "metadata": {},
   "outputs": [
    {
     "data": {
      "image/png": "[encoded data removed]",
      "text/plain": [
       "<Figure size 432x288 with 1 Axes>"
      ]
     },
     "metadata": {
      "needs_background": "light"
     },
     "output_type": "display_data"
    }
   ],
   "source": [
    "plt.hist(epoch1_prob2)\n",
    "plt.show()"
   ]
  },
  {
   "cell_type": "code",
   "execution_count": 10,
   "id": "1dd62d7b-e269-4b1b-a4ba-c9ff3486c7a6",
   "metadata": {},
   "outputs": [
    {
     "data": {
      "image/png": "[encoded data removed]",
      "text/plain": [
       "<Figure size 432x288 with 1 Axes>"
      ]
     },
     "metadata": {
      "needs_background": "light"
     },
     "output_type": "display_data"
    }
   ],
   "source": [
    "plt.hist(epoch1_norm_losses1[epoch1_pred1], label='clean')\n",
    "plt.hist(epoch1_norm_losses1[~epoch1_pred1], label='noisy')\n",
    "plt.legend()\n",
    "plt.show()"
   ]
  },
  {
   "cell_type": "code",
   "execution_count": 11,
   "id": "6200f602-b996-4c5b-a840-0d34b801781e",
   "metadata": {},
   "outputs": [
    {
     "data": {
      "image/png": "[encoded data removed]",
      "text/plain": [
       "<Figure size 432x288 with 1 Axes>"
      ]
     },
     "metadata": {
      "needs_background": "light"
     },
     "output_type": "display_data"
    }
   ],
   "source": [
    "plt.hist(epoch1_norm_losses2[epoch1_pred2], label='clean')\n",
    "plt.hist(epoch1_norm_losses2[~epoch1_pred2], label='noisy')\n",
    "plt.legend()\n",
    "plt.show()"
   ]
  },
  {
   "cell_type": "code",
   "execution_count": 12,
   "id": "314e8229-58ba-4fb4-b511-e53a889bce5e",
   "metadata": {},
   "outputs": [
    {
     "data": {
      "image/png": "[encoded data removed]",
      "text/plain": [
       "<Figure size 432x288 with 1 Axes>"
      ]
     },
     "metadata": {
      "needs_background": "light"
     },
     "output_type": "display_data"
    }
   ],
   "source": [
    "plt.hist(epoch5_prob1)\n",
    "plt.show()"
   ]
  },
  {
   "cell_type": "code",
   "execution_count": 13,
   "id": "32b1db41-50cf-4ef1-9c2b-903c3c9f209c",
   "metadata": {},
   "outputs": [
    {
     "data": {
      "image/png": "[encoded data removed]",
      "text/plain": [
       "<Figure size 432x288 with 1 Axes>"
      ]
     },
     "metadata": {
      "needs_background": "light"
     },
     "output_type": "display_data"
    }
   ],
   "source": [
    "plt.hist(epoch5_prob2)\n",
    "plt.show()"
   ]
  },
  {
   "cell_type": "code",
   "execution_count": 14,
   "id": "cd2458b7-c022-48e0-9cc8-54bdbdbca933",
   "metadata": {},
   "outputs": [
    {
     "data": {
      "image/png": "[encoded data removed]",
      "text/plain": [
       "<Figure size 432x288 with 1 Axes>"
      ]
     },
     "metadata": {
      "needs_background": "light"
     },
     "output_type": "display_data"
    }
   ],
   "source": [
    "plt.hist(epoch5_norm_losses1[epoch5_pred1], label='clean')\n",
    "plt.hist(epoch5_norm_losses1[~epoch5_pred1], label='noisy')\n",
    "plt.legend()\n",
    "plt.show()"
   ]
  },
  {
   "cell_type": "code",
   "execution_count": 15,
   "id": "bae6b506-fcd5-4328-adb9-6a00ccc28035",
   "metadata": {},
   "outputs": [
    {
     "data": {
      "image/png": "[encoded data removed]",
      "text/plain": [
       "<Figure size 432x288 with 1 Axes>"
      ]
     },
     "metadata": {
      "needs_background": "light"
     },
     "output_type": "display_data"
    }
   ],
   "source": [
    "plt.hist(epoch5_norm_losses2[epoch5_pred2], label='clean')\n",
    "plt.hist(epoch5_norm_losses2[~epoch5_pred2], label='noisy')\n",
    "plt.legend()\n",
    "plt.show()"
   ]
  },
  {
   "cell_type": "code",
   "execution_count": 16,
   "id": "7bd07743-1fff-4fcc-a959-a363286e6430",
   "metadata": {},
   "outputs": [
    {
     "data": {
      "image/png": "[encoded data removed]",
      "text/plain": [
       "<Figure size 432x288 with 1 Axes>"
      ]
     },
     "metadata": {
      "needs_background": "light"
     },
     "output_type": "display_data"
    }
   ],
   "source": [
    "plt.hist(epoch10_prob1)\n",
    "plt.show()"
   ]
  },
  {
   "cell_type": "code",
   "execution_count": 17,
   "id": "28b9f2ca-3442-497f-99ec-505188888e3b",
   "metadata": {},
   "outputs": [
    {
     "data": {
      "image/png": "[encoded data removed]",
      "text/plain": [
       "<Figure size 432x288 with 1 Axes>"
      ]
     },
     "metadata": {
      "needs_background": "light"
     },
     "output_type": "display_data"
    }
   ],
   "source": [
    "plt.hist(epoch10_prob2)\n",
    "plt.show()"
   ]
  },
  {
   "cell_type": "code",
   "execution_count": 18,
   "id": "4a8c6d68-df68-46fc-811b-58e58c4c1f8a",
   "metadata": {},
   "outputs": [
    {
     "data": {
      "image/png": "[encoded data removed]",
      "text/plain": [
       "<Figure size 432x288 with 1 Axes>"
      ]
     },
     "metadata": {
      "needs_background": "light"
     },
     "output_type": "display_data"
    }
   ],
   "source": [
    "plt.hist(epoch10_norm_losses1[epoch10_pred1], label='clean')\n",
    "plt.hist(epoch10_norm_losses1[~epoch10_pred1], label='noisy')\n",
    "plt.legend()\n",
    "plt.show()"
   ]
  },
  {
   "cell_type": "code",
   "execution_count": 19,
   "id": "e7909b1c-ea98-48a8-bf52-6df46c10d427",
   "metadata": {},
   "outputs": [
    {
     "data": {
      "image/png": "[encoded data removed]",
      "text/plain": [
       "<Figure size 432x288 with 1 Axes>"
      ]
     },
     "metadata": {
      "needs_background": "light"
     },
     "output_type": "display_data"
    }
   ],
   "source": [
    "plt.hist(epoch10_norm_losses2[epoch10_pred2], label='clean')\n",
    "plt.hist(epoch10_norm_losses2[~epoch10_pred2], label='noisy')\n",
    "plt.legend()\n",
    "plt.show()"
   ]
  },
  {
   "cell_type": "code",
   "execution_count": null,
   "id": "90598493-8cb0-4d31-95c9-3eb9c3dca698",
   "metadata": {},
   "outputs": [],
   "source": []
  }
 ],
 "metadata": {
  "kernelspec": {
   "display_name": "Python 3 (ipykernel)",
   "language": "python",
   "name": "python3"
  },
  "language_info": {
   "codemirror_mode": {
    "name": "ipython",
    "version": 3
   },
   "file_extension": ".py",
   "mimetype": "text/x-python",
   "name": "python",
   "nbconvert_exporter": "python",
   "pygments_lexer": "ipython3",
   "version": "3.10.4"
  }
 },
 "nbformat": 4,
 "nbformat_minor": 5
}
