{
 "cells": [
  {
   "cell_type": "markdown",
   "id": "59eb199c-8698-4249-ad93-04fba0b00b69",
   "metadata": {},
   "source": [
    "# Pretrained Embeddings\n",
    "## BioVec (incldues ProtVec)\n",
    "* https://github.com/ehsanasgari/Deep-Proteomics\n",
    "* has pretrained files available\n",
    "* Word2Vec logic training\n",
    "    * lacks context\n",
    "\n",
    "## Universal Deep Sequence Models for protein classification\n",
    "* https://github.com/nstrodt/UDSMProt\n",
    "* has pretrained files available\n",
    "    * https://cloud.uol.de/s/gAbkQZkHNKKbtjC\n",
    "   \n",
    "## SeqVec\n",
    "* https://github.com/mheinzinger/SeqVec\n",
    "    * Most recent version is at Rostlab https://github.com/rostlab/SeqVec\n",
    "* approach is based on ELMo\n",
    "    * incorporates context\n",
    "    \n",
    "## ESM-1b (Evolutionary Scale Modeling)\n",
    "* https://github.com/facebookresearch/esm\n",
    "* https://github.com/facebookresearch/esm/blob/main/examples/sup_variant_prediction.ipynb\n",
    "* also has a zero-shot variant prediction version:\n",
    "    * https://github.com/facebookresearch/esm/tree/main/examples/variant-prediction\n",
    "\n",
    "## ProtTrans\n",
    "* BERT-based\n",
    "* https://github.com/agemagician/ProtTrans\n",
    "* Can be used for\n",
    "    * feature extraction\n",
    "    * fine tuning\n",
    "    * prediction"
   ]
  },
  {
   "cell_type": "markdown",
   "id": "a7b6da24-ca71-4e9c-90d9-5137dcc0f390",
   "metadata": {},
   "source": [
    "## BiLSTM + Attention \n",
    "* https://bmcbioinformatics.biomedcentral.com/track/pdf/10.1186/s12859-019-3199-1.pdf\n",
    "* https://github.com/Jiale-Liu/LSTM/blob/master/lstm.py"
   ]
  },
  {
   "cell_type": "code",
   "execution_count": null,
   "id": "f9c57851-0748-46b5-877e-5cf852c9c47e",
   "metadata": {},
   "outputs": [],
   "source": []
  }
 ],
 "metadata": {
  "kernelspec": {
   "display_name": "Python 3 (ipykernel)",
   "language": "python",
   "name": "python3"
  },
  "language_info": {
   "codemirror_mode": {
    "name": "ipython",
    "version": 3
   },
   "file_extension": ".py",
   "mimetype": "text/x-python",
   "name": "python",
   "nbconvert_exporter": "python",
   "pygments_lexer": "ipython3",
   "version": "3.10.4"
  }
 },
 "nbformat": 4,
 "nbformat_minor": 5
}
