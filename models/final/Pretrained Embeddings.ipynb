{
 "cells": [
  {
   "cell_type": "markdown",
   "id": "59eb199c-8698-4249-ad93-04fba0b00b69",
   "metadata": {},
   "source": [
    "# Pretrained Embeddings\n",
    "\n",
    "\n",
    "## Module Bio-Embeddings\n",
    "### ESM-1b (Evolutionary Scale Modeling)\n",
    "* https://github.com/facebookresearch/esm\n",
    "* https://github.com/facebookresearch/esm/blob/main/examples/sup_variant_prediction.ipynb\n",
    "* also has a zero-shot variant prediction version:\n",
    "    * https://github.com/facebookresearch/esm/tree/main/examples/variant-prediction\n",
    "   \n",
    "### SeqVec\n",
    "* https://github.com/mheinzinger/SeqVec\n",
    "    * Most recent version is at Rostlab https://github.com/rostlab/SeqVec\n",
    "    * can be used with https://github.com/sacdallago/bio_embeddings\n",
    "* approach is based on ELMo\n",
    "    * incorporates context\n",
    "\n",
    "### ProtTrans\n",
    "* BERT, T5, etc. architectures available\n",
    "* https://github.com/agemagician/ProtTrans\n",
    "* Can be used for\n",
    "    * feature extraction\n",
    "    * fine tuning\n",
    "    * prediction\n",
    "    \n",
    "## [Lower Prio]\n",
    "* Universal Deep Sequence Models for protein classification\n",
    "    * https://github.com/nstrodt/UDSMProt\n",
    "    * has pretrained files available\n",
    "        * https://cloud.uol.de/s/gAbkQZkHNKKbtjC"
   ]
  },
  {
   "cell_type": "markdown",
   "id": "28bcf497-806a-4dea-ad3a-342148a42dd7",
   "metadata": {},
   "source": [
    "## [DONE]\n",
    "* DNABERT\n",
    "    * https://academic.oup.com/bioinformatics/article/37/15/2112/6128680\n",
    "    * https://github.com/jerryji1993/DNABERT\n",
    "    * Fine-tuned for ~14,000 iterations with official pre-trained model and respective official script, loss didn't change\n",
    "    * Accuracy ~58%\n",
    "* Prot2Vec\n",
    "    * https://github.com/ehsanasgari/Deep-Proteomics\n",
    "    * https://github.com/jowoojun/biovec/blob/master/word2vec/models.py\n",
    "    * Word2Vec logic training\n",
    "        * lacks context"
   ]
  },
  {
   "cell_type": "code",
   "execution_count": null,
   "id": "54ee8c0f-5561-4ec5-a71e-f176fe4eae5c",
   "metadata": {},
   "outputs": [],
   "source": []
  },
  {
   "cell_type": "code",
   "execution_count": null,
   "id": "7cc9a689-af77-425f-9de8-37d476daab4a",
   "metadata": {},
   "outputs": [],
   "source": []
  }
 ],
 "metadata": {
  "kernelspec": {
   "display_name": "Python 3 (ipykernel)",
   "language": "python",
   "name": "python3"
  },
  "language_info": {
   "codemirror_mode": {
    "name": "ipython",
    "version": 3
   },
   "file_extension": ".py",
   "mimetype": "text/x-python",
   "name": "python",
   "nbconvert_exporter": "python",
   "pygments_lexer": "ipython3",
   "version": "3.10.4"
  }
 },
 "nbformat": 4,
 "nbformat_minor": 5
}
