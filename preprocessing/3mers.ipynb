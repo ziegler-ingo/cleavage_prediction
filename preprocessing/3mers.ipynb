{
 "cells": [
  {
   "cell_type": "code",
   "execution_count": 1,
   "id": "1df7c9a1-467f-4ed6-b89c-eae36efb5b47",
   "metadata": {},
   "outputs": [],
   "source": [
    "import pandas as pd\n",
    "\n",
    "get_3mer = lambda seq: \" \".join(seq[i: i+3] for i in range(len(seq)-3+1))"
   ]
  },
  {
   "cell_type": "code",
   "execution_count": 2,
   "id": "d09bf353-4347-48bf-aaf6-75ab179ad8e5",
   "metadata": {},
   "outputs": [],
   "source": [
    "df = pd.read_csv('../data/mhc1_cleavages_nc_ranks.csv')"
   ]
  },
  {
   "cell_type": "code",
   "execution_count": 3,
   "id": "c5ce6e55-4d0e-409a-b975-8a65f7b8eb0b",
   "metadata": {},
   "outputs": [
    {
     "name": "stdout",
     "output_type": "stream",
     "text": [
      "Samples in n_term:  1434989\n",
      "Samples in c_term:  1419501\n"
     ]
    }
   ],
   "source": [
    "n_term = df.loc[df['terminus'] == 'n', ['cleavage_window', 'elution_cleavage']]\n",
    "print('Samples in n_term: ', len(n_term))\n",
    "c_term = df.loc[df['terminus'] == 'c', ['cleavage_window', 'elution_cleavage']]\n",
    "print('Samples in c_term: ', len(c_term))\n",
    "\n",
    "n_term['kmers'] = n_term['cleavage_window'].map(get_3mer)\n",
    "c_term['kmers'] = c_term['cleavage_window'].map(get_3mer)\n",
    "\n",
    "n_term = n_term.rename(columns={'kmers': 'sequence', 'elution_cleavage': 'label'})[['sequence', 'label']]\n",
    "c_term = c_term.rename(columns={'kmers': 'sequence', 'elution_cleavage': 'label'})[['sequence', 'label']]"
   ]
  },
  {
   "cell_type": "code",
   "execution_count": 4,
   "id": "4165c47a-553f-4137-8cc3-4b867c030497",
   "metadata": {},
   "outputs": [],
   "source": [
    "# n_term\n",
    "# create train (80%), val (10%), test (10%) files\n",
    "n_train = n_term.sample(frac = 0.8, random_state = 1234)\n",
    "n_val = n_term.drop(n_train.index)\n",
    "n_test = n_val.sample(frac = 0.5, random_state = 1234)\n",
    "n_val = n_val.drop(n_test.index)\n",
    "\n",
    "assert len(n_train) + len(n_val) + len(n_test) == len(n_term)"
   ]
  },
  {
   "cell_type": "code",
   "execution_count": 5,
   "id": "038feb74-c5f7-45c2-8237-10741aefc69c",
   "metadata": {},
   "outputs": [],
   "source": [
    "# c_term\n",
    "# create train (80%), val (10%), test (10%) files\n",
    "c_train = c_term.sample(frac = 0.8, random_state = 1234)\n",
    "c_val = c_term.drop(c_train.index)\n",
    "c_test = c_val.sample(frac = 0.5, random_state = 1234)\n",
    "c_val = c_val.drop(c_test.index)\n",
    "\n",
    "assert len(c_train) + len(c_val) + len(c_test) == len(c_term)"
   ]
  },
  {
   "cell_type": "code",
   "execution_count": 6,
   "id": "c5b99a10-9440-472a-b183-b6e719e4327b",
   "metadata": {},
   "outputs": [],
   "source": [
    "n_train.to_csv('../data/n_train_3mer.tsv', index = False, sep='\\t')\n",
    "n_val.to_csv('../data/n_val_3mer.tsv', index = False, sep='\\t')\n",
    "n_test.to_csv('../data/n_test_3mer.tsv', index = False, sep='\\t')\n",
    "\n",
    "c_train.to_csv('../data/c_train_3mer.tsv', index = False, sep='\\t')\n",
    "c_val.to_csv('../data/c_val_3mer.tsv', index = False, sep='\\t')\n",
    "c_test.to_csv('../data/c_test_3mer.tsv', index = False, sep='\\t')"
   ]
  },
  {
   "cell_type": "code",
   "execution_count": null,
   "id": "1dc3d009-c512-4d9b-a70b-4703db40d504",
   "metadata": {},
   "outputs": [],
   "source": []
  }
 ],
 "metadata": {
  "kernelspec": {
   "display_name": "Python 3 (ipykernel)",
   "language": "python",
   "name": "python3"
  },
  "language_info": {
   "codemirror_mode": {
    "name": "ipython",
    "version": 3
   },
   "file_extension": ".py",
   "mimetype": "text/x-python",
   "name": "python",
   "nbconvert_exporter": "python",
   "pygments_lexer": "ipython3",
   "version": "3.10.4"
  }
 },
 "nbformat": 4,
 "nbformat_minor": 5
}
