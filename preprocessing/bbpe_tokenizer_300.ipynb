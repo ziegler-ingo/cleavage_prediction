{
 "cells": [
  {
   "cell_type": "code",
   "execution_count": 1,
   "id": "29564a19-ab4a-4b72-aebd-45bc071553c7",
   "metadata": {},
   "outputs": [],
   "source": [
    "import csv\n",
    "\n",
    "from tokenizers import ByteLevelBPETokenizer"
   ]
  },
  {
   "cell_type": "code",
   "execution_count": 2,
   "id": "03b8dfe4-fa04-4e86-8713-2b3954086939",
   "metadata": {},
   "outputs": [],
   "source": [
    "def read_data(path):\n",
    "    with open(path, 'r') as csvfile:\n",
    "        train_data = list(csv.reader(csvfile))[1:] # skip col name\n",
    "    return [s for s, _ in train_data]"
   ]
  },
  {
   "cell_type": "code",
   "execution_count": 3,
   "id": "21c6508b-3cf2-4be7-86de-d2e0c2c9940a",
   "metadata": {},
   "outputs": [],
   "source": [
    "# load train for both n and c terminus\n",
    "n_train_seqs = read_data('../data/n_train.csv')\n",
    "c_train_seqs = read_data('../data/c_train.csv')"
   ]
  },
  {
   "cell_type": "code",
   "execution_count": 4,
   "id": "f44b857e-7d72-4aa6-9f21-27a44245087c",
   "metadata": {},
   "outputs": [],
   "source": [
    "n_tokenizer = ByteLevelBPETokenizer()\n",
    "c_tokenizer = ByteLevelBPETokenizer()"
   ]
  },
  {
   "cell_type": "code",
   "execution_count": 5,
   "id": "c8f0daf0-0951-4943-892c-31ab6b10e746",
   "metadata": {},
   "outputs": [
    {
     "name": "stdout",
     "output_type": "stream",
     "text": [
      "\n",
      "\n",
      "\n",
      "\n",
      "\n",
      "\n"
     ]
    }
   ],
   "source": [
    "n_tokenizer.train_from_iterator(\n",
    "    iterator=n_train_seqs,\n",
    "    vocab_size=300,\n",
    "    min_frequency=1,\n",
    "    special_tokens=['<PAD>']\n",
    ")\n",
    "\n",
    "c_tokenizer.train_from_iterator(\n",
    "    iterator=c_train_seqs,\n",
    "    vocab_size=300,\n",
    "    min_frequency=1,\n",
    "    special_tokens=['<PAD>']\n",
    ")"
   ]
  },
  {
   "cell_type": "code",
   "execution_count": 6,
   "id": "0f7f0571-92ea-4991-979d-95e2d9dcc613",
   "metadata": {},
   "outputs": [
    {
     "data": {
      "text/plain": [
       "['./bbpe_params/vocab_300/c_term/vocab.json',\n",
       " './bbpe_params/vocab_300/c_term/merges.txt']"
      ]
     },
     "execution_count": 6,
     "metadata": {},
     "output_type": "execute_result"
    }
   ],
   "source": [
    "n_tokenizer.save_model('./bbpe_params/vocab_300/n_term/')\n",
    "c_tokenizer.save_model('./bbpe_params/vocab_300/c_term/')"
   ]
  },
  {
   "cell_type": "code",
   "execution_count": null,
   "id": "1ea4f9bd-fd4c-4350-9504-8c2b8535bcff",
   "metadata": {},
   "outputs": [],
   "source": []
  }
 ],
 "metadata": {
  "kernelspec": {
   "display_name": "Python 3 (ipykernel)",
   "language": "python",
   "name": "python3"
  },
  "language_info": {
   "codemirror_mode": {
    "name": "ipython",
    "version": 3
   },
   "file_extension": ".py",
   "mimetype": "text/x-python",
   "name": "python",
   "nbconvert_exporter": "python",
   "pygments_lexer": "ipython3",
   "version": "3.10.4"
  }
 },
 "nbformat": 4,
 "nbformat_minor": 5
}
