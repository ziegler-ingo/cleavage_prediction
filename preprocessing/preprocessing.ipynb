{
 "cells": [
  {
   "cell_type": "code",
   "execution_count": 1,
   "metadata": {},
   "outputs": [],
   "source": [
    "import pandas as pd"
   ]
  },
  {
   "cell_type": "code",
   "execution_count": 2,
   "metadata": {},
   "outputs": [],
   "source": [
    "df = pd.read_csv('../data/mhc1_cleavages_nc_ranks.csv')"
   ]
  },
  {
   "cell_type": "code",
   "execution_count": 3,
   "metadata": {},
   "outputs": [
    {
     "data": {
      "text/html": [
       "<div>\n",
       "<style scoped>\n",
       "    .dataframe tbody tr th:only-of-type {\n",
       "        vertical-align: middle;\n",
       "    }\n",
       "\n",
       "    .dataframe tbody tr th {\n",
       "        vertical-align: top;\n",
       "    }\n",
       "\n",
       "    .dataframe thead th {\n",
       "        text-align: right;\n",
       "    }\n",
       "</style>\n",
       "<table border=\"1\" class=\"dataframe\">\n",
       "  <thead>\n",
       "    <tr style=\"text-align: right;\">\n",
       "      <th></th>\n",
       "      <th>terminus</th>\n",
       "      <th>cleavage_window</th>\n",
       "      <th>following_epitope</th>\n",
       "      <th>elution_cleavage</th>\n",
       "      <th>cleaved_count</th>\n",
       "      <th>occurrences</th>\n",
       "      <th>cleav_prob</th>\n",
       "      <th>min_epitope_rank</th>\n",
       "      <th>is_presented</th>\n",
       "    </tr>\n",
       "  </thead>\n",
       "  <tbody>\n",
       "    <tr>\n",
       "      <th>0</th>\n",
       "      <td>n</td>\n",
       "      <td>KPSDAASEAA</td>\n",
       "      <td>ASEAARPAT</td>\n",
       "      <td>0</td>\n",
       "      <td>0</td>\n",
       "      <td>3</td>\n",
       "      <td>0.000000</td>\n",
       "      <td>4.7871</td>\n",
       "      <td>0</td>\n",
       "    </tr>\n",
       "    <tr>\n",
       "      <th>1</th>\n",
       "      <td>n</td>\n",
       "      <td>PSDAASEAAR</td>\n",
       "      <td>SEAARPATS</td>\n",
       "      <td>1</td>\n",
       "      <td>1</td>\n",
       "      <td>3</td>\n",
       "      <td>0.333333</td>\n",
       "      <td>2.3096</td>\n",
       "      <td>0</td>\n",
       "    </tr>\n",
       "    <tr>\n",
       "      <th>2</th>\n",
       "      <td>n</td>\n",
       "      <td>SDAASEAARP</td>\n",
       "      <td>EAARPATST</td>\n",
       "      <td>1</td>\n",
       "      <td>1</td>\n",
       "      <td>4</td>\n",
       "      <td>0.250000</td>\n",
       "      <td>2.2622</td>\n",
       "      <td>0</td>\n",
       "    </tr>\n",
       "    <tr>\n",
       "      <th>3</th>\n",
       "      <td>n</td>\n",
       "      <td>DAASEAARPA</td>\n",
       "      <td>AARPATSTL</td>\n",
       "      <td>1</td>\n",
       "      <td>1</td>\n",
       "      <td>4</td>\n",
       "      <td>0.250000</td>\n",
       "      <td>0.0273</td>\n",
       "      <td>1</td>\n",
       "    </tr>\n",
       "    <tr>\n",
       "      <th>4</th>\n",
       "      <td>n</td>\n",
       "      <td>AASEAARPAT</td>\n",
       "      <td>ARPATSTLN</td>\n",
       "      <td>0</td>\n",
       "      <td>0</td>\n",
       "      <td>4</td>\n",
       "      <td>0.000000</td>\n",
       "      <td>22.2150</td>\n",
       "      <td>0</td>\n",
       "    </tr>\n",
       "  </tbody>\n",
       "</table>\n",
       "</div>"
      ],
      "text/plain": [
       "  terminus cleavage_window following_epitope  elution_cleavage  cleaved_count  \\\n",
       "0        n      KPSDAASEAA         ASEAARPAT                 0              0   \n",
       "1        n      PSDAASEAAR         SEAARPATS                 1              1   \n",
       "2        n      SDAASEAARP         EAARPATST                 1              1   \n",
       "3        n      DAASEAARPA         AARPATSTL                 1              1   \n",
       "4        n      AASEAARPAT         ARPATSTLN                 0              0   \n",
       "\n",
       "   occurrences  cleav_prob  min_epitope_rank  is_presented  \n",
       "0            3    0.000000            4.7871             0  \n",
       "1            3    0.333333            2.3096             0  \n",
       "2            4    0.250000            2.2622             0  \n",
       "3            4    0.250000            0.0273             1  \n",
       "4            4    0.000000           22.2150             0  "
      ]
     },
     "execution_count": 3,
     "metadata": {},
     "output_type": "execute_result"
    }
   ],
   "source": [
    "df.head()"
   ]
  },
  {
   "cell_type": "code",
   "execution_count": 4,
   "metadata": {},
   "outputs": [
    {
     "data": {
      "text/plain": [
       "terminus                 0\n",
       "cleavage_window      27710\n",
       "following_epitope        0\n",
       "elution_cleavage         0\n",
       "cleaved_count            0\n",
       "occurrences              0\n",
       "cleav_prob               0\n",
       "min_epitope_rank         0\n",
       "is_presented             0\n",
       "dtype: int64"
      ]
     },
     "execution_count": 4,
     "metadata": {},
     "output_type": "execute_result"
    }
   ],
   "source": [
    "df.isna().sum()"
   ]
  },
  {
   "cell_type": "code",
   "execution_count": 5,
   "metadata": {},
   "outputs": [
    {
     "name": "stdout",
     "output_type": "stream",
     "text": [
      "Number of data points before dropping NaNs: 2,888,876\n",
      "Number of data points after dropping NaNs: 2,861,166\n"
     ]
    }
   ],
   "source": [
    "print(f'Number of data points before dropping NaNs: {len(df):,}')\n",
    "\n",
    "df.dropna(inplace = True)\n",
    "print(f'Number of data points after dropping NaNs: {len(df):,}')"
   ]
  },
  {
   "cell_type": "code",
   "execution_count": 6,
   "metadata": {},
   "outputs": [],
   "source": [
    "n_term = df.loc[df['terminus'] == 'n', ['cleavage_window', 'is_presented']] # 1,430,583 samples\n",
    "c_term = df.loc[df['terminus'] == 'c', ['cleavage_window', 'is_presented']] # 1,430,583 samples"
   ]
  },
  {
   "cell_type": "code",
   "execution_count": 7,
   "metadata": {},
   "outputs": [],
   "source": [
    "# n_term\n",
    "# create train (80%), val (10%), test (10%) files\n",
    "n_train = n_term.sample(frac = 0.8, random_state = 1234)\n",
    "n_val = n_term.drop(n_train.index)\n",
    "n_test = n_val.sample(frac = 0.5, random_state = 1234)\n",
    "n_val = n_val.drop(n_test.index)\n",
    "\n",
    "assert len(n_train) + len(n_val) + len(n_test) == len(n_term)"
   ]
  },
  {
   "cell_type": "code",
   "execution_count": 8,
   "metadata": {},
   "outputs": [],
   "source": [
    "# c_term\n",
    "# create train (80%), val (10%), test (10%) files\n",
    "c_train = c_term.sample(frac = 0.8, random_state = 1234)\n",
    "c_val = c_term.drop(c_train.index)\n",
    "c_test = c_val.sample(frac = 0.5, random_state = 1234)\n",
    "c_val = c_val.drop(c_test.index)\n",
    "\n",
    "assert len(c_train) + len(c_val) + len(c_test) == len(c_term)"
   ]
  },
  {
   "cell_type": "code",
   "execution_count": 9,
   "metadata": {},
   "outputs": [],
   "source": [
    "n_train.to_csv('../data/n_train.csv', index = False)\n",
    "n_val.to_csv('../data/n_val.csv', index = False)\n",
    "n_test.to_csv('../data/n_test.csv', index = False)\n",
    "\n",
    "c_train.to_csv('../data/c_train.csv', index = False)\n",
    "c_val.to_csv('../data/c_val.csv', index = False)\n",
    "c_test.to_csv('../data/c_test.csv', index = False)"
   ]
  },
  {
   "cell_type": "code",
   "execution_count": null,
   "metadata": {},
   "outputs": [],
   "source": []
  }
 ],
 "metadata": {
  "kernelspec": {
   "display_name": "Python 3 (ipykernel)",
   "language": "python",
   "name": "python3"
  },
  "language_info": {
   "codemirror_mode": {
    "name": "ipython",
    "version": 3
   },
   "file_extension": ".py",
   "mimetype": "text/x-python",
   "name": "python",
   "nbconvert_exporter": "python",
   "pygments_lexer": "ipython3",
   "version": "3.10.4"
  }
 },
 "nbformat": 4,
 "nbformat_minor": 4
}
